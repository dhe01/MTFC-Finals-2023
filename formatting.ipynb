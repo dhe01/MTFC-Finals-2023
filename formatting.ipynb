{
 "cells": [
  {
   "cell_type": "code",
   "execution_count": 1,
   "metadata": {},
   "outputs": [],
   "source": [
    "import pandas as pd\n",
    "import numpy as np\n",
    "\n",
    "import plotly.graph_objects as go\n",
    "import plotly.express as px\n",
    "from plotly.subplots import make_subplots"
   ]
  },
  {
   "cell_type": "code",
   "execution_count": 3,
   "metadata": {},
   "outputs": [],
   "source": [
    "xls1 = pd.ExcelFile(r\"arcgis setup\\Final Results\\final all 1.xlsx\")\n",
    "xls5 = pd.ExcelFile(r\"arcgis setup\\Final Results\\final all 5.0.xlsx\")\n",
    "xls10 = pd.ExcelFile(r\"arcgis setup\\Final Results\\final all 10.0.xlsx\")\n",
    "xls15 = pd.ExcelFile(r\"arcgis setup\\Final Results\\final all 15.1.xlsx\")"
   ]
  },
  {
   "cell_type": "code",
   "execution_count": 4,
   "metadata": {},
   "outputs": [],
   "source": [
    "data = pd.read_excel(r\"arcgis setup\\point layer final.xlsx\")"
   ]
  },
  {
   "cell_type": "code",
   "execution_count": 5,
   "metadata": {},
   "outputs": [
    {
     "name": "stdout",
     "output_type": "stream",
     "text": [
      "0\n",
      "1\n",
      "2\n",
      "3\n",
      "4\n",
      "5\n",
      "6\n",
      "7\n",
      "8\n",
      "9\n",
      "10\n",
      "11\n",
      "[-0.3445839352867924, -0.3488406591924913, -0.35453009901895777, -0.35615328875119895, -0.35929868949319, -0.3607762326900431, -0.3617492931530171, -0.36188141962635645, -0.3623093856539154, -0.3580795649265237, -0.34834382004708175, -0.34545883860168636]\n",
      "[0.03733323667283315, 0.03307651276713421, 0.027387072940667757, 0.025763883208426604, 0.022618482466435573, 0.021140939269582444, 0.0201678788066084, 0.02003575233326909, 0.019607786305710133, 0.023837607033101844, 0.03357335191254376, 0.03645833335793915]\n",
      "[0.08144784499925974, 0.0771911210935608, 0.07150168126709434, 0.06987849153485319, 0.06673309079286216, 0.06525554759600903, 0.06428248713303499, 0.06415036065969568, 0.06372239463213672, 0.06795221535952843, 0.07768796023897034, 0.08057294168436574]\n"
     ]
    }
   ],
   "source": [
    "# Rainfall Model generated values\n",
    "tempmaxlist = np.asarray([285.99548533, 290.60936567, 296.47407367, 298.49854467, 303.44844967, 306.181745  , 307.52888167, 307.76914533, 308.046397  , 301.50453667, 289.79283067, 288.3251])-273.15\n",
    "tempminlist = np.asarray([279.52412867, 282.03942567, 282.50230633, 283.03047767, 286.44331733, 289.196742  , 289.501551  , 289.73098367, 288.75478433, 285.118149  , 281.11255067, 283.51997433])-273.15\n",
    "rainlist = [3.73584774e-01, 2.92836556e+00, 7.29598878e+00, 6.70503856e+00, 7.42052972e-01, 2.71029869e+00, 6.95292694e-01, 0.00000000e+00, 1.17418608e-02, 8.83337616e-06, 1.29752368e-03, 6.23148740e-02,]\n",
    "\n",
    "tempavglist = (tempmaxlist + tempminlist)/2\n",
    "tempdiflist = (tempmaxlist - tempminlist)\n",
    "\n",
    "tempavgmax = max(tempavglist)\n",
    "tempavgmin = min(tempavglist)\n",
    "\n",
    "# Conversion factor from kg/m^2 to maf\n",
    "c = 2.0997337 * 10 ** -6\n",
    "rainlist = c * np.asarray(rainlist)\n",
    "\n",
    "adjlevel = []\n",
    "\n",
    "for month in range(12):\n",
    "    df = pd.read_excel(xls1, 'RasterT_FlowAcc' + str(month+1))\n",
    "    adjlevel.append(sum((df[\"grid_code\"] - np.maximum(np.zeros(len(df[\"grid_code\"])), np.minimum(df[\"grid_code\"], (700*(tempavglist[month])/(100 - data[\"Altitude\"]) + 15 * (0.0023 * data[\"Altitude\"] + 0.37 * tempavglist[month] + 0.53 * tempdiflist[month] + 0.35 * (tempavgmax - tempavgmin) - 10.9))/(80-tempavglist[month]) * c)))))\n",
    "    print(month)\n",
    "\n",
    "x = []\n",
    "# High pred (pessimistic)\n",
    "for month in range(12): # - daily loss -> daily total\n",
    "    x.append(adjlevel[month]*1/5 - (433.36027745686107 + 0.4943329750796943 * 39240) * 3.06889e-6 * 7)\n",
    "print(x)\n",
    "# Median \n",
    "x = []\n",
    "for month in range(12): # weekly/5 * 5/7 - daily loss -> daily total\n",
    "    x.append(adjlevel[month]*1/5 - (7.193477398965072  + 0.05212817 * 39240) * 3.06889e-6 * 7)\n",
    "print(x)\n",
    "x = []\n",
    "# Low pred (optimistic)\n",
    "for month in range(12): # weekly/5 * 5/7 - daily loss -> daily total\n",
    "    x.append(adjlevel[month]*1/5 - (0.07002564766121058 + -2.310600109060327e-05  * 39240) * 3.06889e-6 * 7)\n",
    "print(x)"
   ]
  },
  {
   "cell_type": "code",
   "execution_count": 6,
   "metadata": {},
   "outputs": [
    {
     "name": "stdout",
     "output_type": "stream",
     "text": [
      "0\n",
      "1\n",
      "2\n",
      "3\n",
      "4\n",
      "5\n",
      "6\n",
      "7\n",
      "8\n",
      "9\n",
      "10\n",
      "11\n",
      "[-0.3625377318756413, -0.36209426686370194, -0.3535085704617682, -0.346699092102845, -0.34087465676680156, -0.340086675733103, -0.34084435830780235, -0.3429813433015457, -0.3543123420175305, -0.35802488063119164, -0.36188535960412127, -0.36239522674885855]\n",
      "[0.019379440083984255, 0.019822905095923597, 0.028408601497857323, 0.035218079856780514, 0.04104251519282396, 0.04183049622652254, 0.04107281365182321, 0.038935828658079784, 0.027604829942095087, 0.023892291328433922, 0.020031812355504296, 0.01952194521076698]\n",
      "[0.06349404841041084, 0.06393751342235018, 0.07252320982428391, 0.0793326881832071, 0.08515712351925055, 0.08594510455294913, 0.0851874219782498, 0.08305043698450637, 0.07171943826852167, 0.06800689965486051, 0.06414642068193088, 0.06363655353719357]\n"
     ]
    }
   ],
   "source": [
    "# Rainfall Model generated values\n",
    "tempmaxlist = np.asarray([306.87821367, 306.002554  , 295.263266  , 289.73215667, 285.90098197, 286.32827292, 288.24651583, 290.56602751, 300.37107491, 304.12201333, 307.35666512, 306.99192124])-273.15\n",
    "tempminlist = np.asarray([277.73523167, 276.925101  , 277.45411667, 279.968295  , 282.08340433, 285.43810933, 288.59289033, 289.48194267, 288.928506  , 287.964809  , 282.58445533, 278.86252367])-273.15\n",
    "rainlist = [8.51333697e-01, 2.74756270e+00, 7.00556261e+00, 5.43645570e+00, 3.42437672e+00, 1.03481404e+00, 2.20333550e+00, 7.11763005e-01, 9.48914504e-03, 8.15700616e-03, 3.88041491e-02, 4.04297489e-01]\n",
    "\n",
    "tempavglist = (tempmaxlist + tempminlist)/2\n",
    "tempdiflist = (tempmaxlist - tempminlist)\n",
    "\n",
    "tempavgmax = max(tempavglist)\n",
    "tempavgmin = min(tempavglist)\n",
    "\n",
    "\n",
    "# Conversion factor from kg/m^2 to maf\n",
    "c = 2.0997337 * 10 ** -6\n",
    "rainlist = c * np.asarray(rainlist)\n",
    "\n",
    "adjlevel = []\n",
    "\n",
    "for month in range(12):\n",
    "    df = pd.read_excel(xls5, 'RasterT_FlowAcc' + str(month+1))\n",
    "    adjlevel.append(sum((df[\"grid_code\"] - np.maximum(np.zeros(len(df[\"grid_code\"])), np.minimum(df[\"grid_code\"], (700*(tempavglist[month])/(100 - data[\"Altitude\"]) + 15 * (0.0023 * data[\"Altitude\"] + 0.37 * tempavglist[month] + 0.53 * tempdiflist[month] + 0.35 * (tempavgmax - tempavgmin) - 10.9))/(80-tempavglist[month]) * c)))))\n",
    "    print(month)\n",
    "\n",
    "x = []\n",
    "# High pred (pessimistic)\n",
    "for month in range(12): # - daily loss -> daily total\n",
    "    x.append(adjlevel[month]*1/5 - (433.36027745686107 + 0.4943329750796943 * 39240) * 3.06889e-6 * 7)\n",
    "print(x)\n",
    "# Median \n",
    "x = []\n",
    "for month in range(12): # weekly/5 * 5/7 - daily loss -> daily total\n",
    "    x.append(adjlevel[month]*1/5 - (7.193477398965072  + 0.05212817 * 39240) * 3.06889e-6 * 7)\n",
    "print(x)\n",
    "x = []\n",
    "# Low pred (optimistic)\n",
    "for month in range(12): # weekly/5 * 5/7 - daily loss -> daily total\n",
    "    x.append(adjlevel[month]*1/5 - (0.07002564766121058 + -2.310600109060327e-05  * 39240) * 3.06889e-6 * 7)\n",
    "print(x)"
   ]
  },
  {
   "cell_type": "code",
   "execution_count": 7,
   "metadata": {},
   "outputs": [
    {
     "name": "stdout",
     "output_type": "stream",
     "text": [
      "0\n",
      "1\n",
      "2\n",
      "3\n",
      "4\n",
      "5\n",
      "6\n",
      "7\n",
      "8\n",
      "9\n",
      "10\n",
      "11\n",
      "[-0.39082124990629324, -0.39303446710583567, -0.3958085696336278, -0.39657888604928065, -0.398083307255811, -0.39880208706228853, -0.39926900554230044, -0.3993332924684884, -0.39953487015365097, -0.39749951042148945, -0.39277486024442054, -0.3913242544133607]\n",
      "[-0.00890407794666772, -0.011117295146210147, -0.013891397674002288, -0.014661714089655116, -0.01616613529618542, -0.01688491510266298, -0.0173518335826749, -0.017416120508862876, -0.017617698194025457, -0.015582338461863916, -0.010857688284794977, -0.009407082453735179]\n",
      "[0.03521053037975887, 0.03299731318021644, 0.0302232106524243, 0.02945289423677147, 0.027948473030241165, 0.027229693223763608, 0.02676277474375169, 0.02669848781756371, 0.02649691013240113, 0.02853226986456267, 0.03325692004163161, 0.03470752587269141]\n"
     ]
    }
   ],
   "source": [
    "# Rainfall Model generated values\n",
    "tempmaxlist = np.asarray([306.60847792, 303.53192441, 298.85749966, 293.78375404, 289.56020822, 287.23020042, 287.42055942, 290.15619713, 294.77650699, 300.06900072, 304.58020088, 307.09150173])-273.15\n",
    "tempminlist = np.asarray([277.69608673, 276.43842493, 276.52887765, 278.00521733, 280.52492212, 283.3828243 , 285.75260116, 287.00854395, 286.84783015, 285.37842589, 283.005523  , 280.32173414])-273.15\n",
    "rainlist = [5.17108107e+00, 4.25557307e+00, 5.90597891e-01, 8.47976414e-01, 9.42257523e-01, 3.45543759e-01, 0.00000000e+00, 2.12546396e-01, 7.95816553e-02, 2.34285068e-01, 1.80429764e+00, 3.19692566e+00]\n",
    "\n",
    "tempavglist = (tempmaxlist + tempminlist)/2\n",
    "tempdiflist = (tempmaxlist - tempminlist)\n",
    "\n",
    "tempavgmax = max(tempavglist)\n",
    "tempavgmin = min(tempavglist)\n",
    "\n",
    "# Conversion factor from kg/m^2 to maf\n",
    "c = 2.0997337 * 10 ** -6\n",
    "rainlist = c * np.asarray(rainlist)\n",
    "\n",
    "# Rainfall Model generated values\n",
    "tempmaxlist = np.asarray([285.99548533, 290.60936567, 296.47407367, 298.49854467, 303.44844967, 306.181745  , 307.52888167, 307.76914533, 308.046397  , 301.50453667, 289.79283067, 288.3251])-273.15\n",
    "tempminlist = np.asarray([279.52412867, 282.03942567, 282.50230633, 283.03047767, 286.44331733, 289.196742  , 289.501551  , 289.73098367, 288.75478433, 285.118149  , 281.11255067, 283.51997433])-273.15\n",
    "rainlist = [3.73584774e-01, 2.92836556e+00, 7.29598878e+00, 6.70503856e+00, 7.42052972e-01, 2.71029869e+00, 6.95292694e-01, 0.00000000e+00, 1.17418608e-02, 8.83337616e-06, 1.29752368e-03, 6.23148740e-02,]\n",
    "\n",
    "tempavglist = (tempmaxlist + tempminlist)/2\n",
    "tempdiflist = (tempmaxlist - tempminlist)\n",
    "\n",
    "tempavgmax = max(tempavglist)\n",
    "tempavgmin = min(tempavglist)\n",
    "\n",
    "# Conversion factor from kg/m^2 to maf\n",
    "c = 2.0997337 * 10 ** -6\n",
    "rainlist = c * np.asarray(rainlist)\n",
    "\n",
    "adjlevel = []\n",
    "\n",
    "for month in range(12):\n",
    "    df = pd.read_excel(xls10, 'RasterT_FlowAcc' + str(month+1))\n",
    "    adjlevel.append(sum((df[\"grid_code\"] - np.maximum(np.zeros(len(df[\"grid_code\"])), np.minimum(df[\"grid_code\"], (700*(tempavglist[month])/(100 - data[\"Altitude\"]) + 15 * (0.0023 * data[\"Altitude\"] + 0.37 * tempavglist[month] + 0.53 * tempdiflist[month] + 0.35 * (tempavgmax - tempavgmin) - 10.9))/(80-tempavglist[month]) * c)))))\n",
    "    print(month)\n",
    "\n",
    "x = []\n",
    "# High pred (pessimistic)\n",
    "for month in range(12): # - daily loss -> daily total\n",
    "    x.append(adjlevel[month]*1/5 - (433.36027745686107 + 0.4943329750796943 * 39240) * 3.06889e-6 * 7)\n",
    "print(x)\n",
    "# Median \n",
    "x = []\n",
    "for month in range(12): # weekly/5 * 5/7 - daily loss -> daily total\n",
    "    x.append(adjlevel[month]*1/5 - (7.193477398965072  + 0.05212817 * 39240) * 3.06889e-6 * 7)\n",
    "print(x)\n",
    "x = []\n",
    "# Low pred (optimistic)\n",
    "for month in range(12): # weekly/5 * 5/7 - daily loss -> daily total\n",
    "    x.append(adjlevel[month]*1/5 - (0.07002564766121058 + -2.310600109060327e-05  * 39240) * 3.06889e-6 * 7)\n",
    "print(x)"
   ]
  },
  {
   "cell_type": "code",
   "execution_count": 8,
   "metadata": {},
   "outputs": [
    {
     "name": "stdout",
     "output_type": "stream",
     "text": [
      "0\n",
      "1\n",
      "2\n",
      "3\n",
      "4\n",
      "5\n",
      "6\n",
      "7\n",
      "8\n",
      "9\n",
      "10\n",
      "11\n",
      "[-0.39082124990629324, -0.39303446710583567, -0.3958085696336278, -0.39657888604928065, -0.398083307255811, -0.39880208706228853, -0.39926900554230044, -0.3993332924684884, -0.39953487015365097, -0.39749951042148945, -0.39277486024442054, -0.3913242544133607]\n",
      "[-0.00890407794666772, -0.011117295146210147, -0.013891397674002288, -0.014661714089655116, -0.01616613529618542, -0.01688491510266298, -0.0173518335826749, -0.017416120508862876, -0.017617698194025457, -0.015582338461863916, -0.010857688284794977, -0.009407082453735179]\n",
      "[0.03521053037975887, 0.03299731318021644, 0.0302232106524243, 0.02945289423677147, 0.027948473030241165, 0.027229693223763608, 0.02676277474375169, 0.02669848781756371, 0.02649691013240113, 0.02853226986456267, 0.03325692004163161, 0.03470752587269141]\n"
     ]
    }
   ],
   "source": [
    "# Rainfall Model generated values\n",
    "tempmaxlist = np.asarray([292.44265061, 288.8100255 , 287.43383565, 288.67891113, 292.23063894, 297.16795176, 302.19940633, 306.00451796, 307.58705039, 306.5394447 , 303.14592164, 298.30065618])-273.15\n",
    "tempminlist = np.asarray([279.44911504, 277.39945294, 276.49427878, 276.97395522, 278.71883304, 281.27513718, 283.97203111, 286.10046976, 287.10335104, 286.7224697 , 285.06293719, 282.5611591])-273.15\n",
    "rainlist = [1.92036063e+00, 4.47482520e+00, 2.48078120e+00, 1.12281846e+00, 2.59069966e+00, 7.50999641e-01, 0.00000000e+00, 1.32708325e-01, 4.34867983e-02, 2.86640823e-01, 2.01503957e-01, 1.05283881e+00]\n",
    "\n",
    "tempavglist = (tempmaxlist + tempminlist)/2\n",
    "tempdiflist = (tempmaxlist - tempminlist)\n",
    "\n",
    "tempavgmax = max(tempavglist)\n",
    "tempavgmin = min(tempavglist)\n",
    "\n",
    "# Conversion factor from kg/m^2 to maf\n",
    "c = 2.0997337 * 10 ** -6\n",
    "rainlist = c * np.asarray(rainlist)\n",
    "\n",
    "# Rainfall Model generated values\n",
    "tempmaxlist = np.asarray([285.99548533, 290.60936567, 296.47407367, 298.49854467, 303.44844967, 306.181745  , 307.52888167, 307.76914533, 308.046397  , 301.50453667, 289.79283067, 288.3251])-273.15\n",
    "tempminlist = np.asarray([279.52412867, 282.03942567, 282.50230633, 283.03047767, 286.44331733, 289.196742  , 289.501551  , 289.73098367, 288.75478433, 285.118149  , 281.11255067, 283.51997433])-273.15\n",
    "rainlist = [3.73584774e-01, 2.92836556e+00, 7.29598878e+00, 6.70503856e+00, 7.42052972e-01, 2.71029869e+00, 6.95292694e-01, 0.00000000e+00, 1.17418608e-02, 8.83337616e-06, 1.29752368e-03, 6.23148740e-02,]\n",
    "\n",
    "tempavglist = (tempmaxlist + tempminlist)/2\n",
    "tempdiflist = (tempmaxlist - tempminlist)\n",
    "\n",
    "tempavgmax = max(tempavglist)\n",
    "tempavgmin = min(tempavglist)\n",
    "\n",
    "# Conversion factor from kg/m^2 to maf\n",
    "c = 2.0997337 * 10 ** -6\n",
    "rainlist = c * np.asarray(rainlist)\n",
    "\n",
    "adjlevel = []\n",
    "\n",
    "for month in range(12):\n",
    "    df = pd.read_excel(xls15, 'RasterT_FlowAcc' + str(month+1))\n",
    "    adjlevel.append(sum((df[\"grid_code\"] - np.maximum(np.zeros(len(df[\"grid_code\"])), np.minimum(df[\"grid_code\"], (700*(tempavglist[month])/(100 - data[\"Altitude\"]) + 15 * (0.0023 * data[\"Altitude\"] + 0.37 * tempavglist[month] + 0.53 * tempdiflist[month] + 0.35 * (tempavgmax - tempavgmin) - 10.9))/(80-tempavglist[month]) * c)))))\n",
    "    print(month)\n",
    "\n",
    "x = []\n",
    "# High pred (pessimistic)\n",
    "for month in range(12): # - daily loss -> daily total\n",
    "    x.append(adjlevel[month]*1/5 - (433.36027745686107 + 0.4943329750796943 * 39240) * 3.06889e-6 * 7)\n",
    "print(x)\n",
    "# Median \n",
    "x = []\n",
    "for month in range(12): # weekly/5 * 5/7 - daily loss -> daily total\n",
    "    x.append(adjlevel[month]*1/5 - (7.193477398965072  + 0.05212817 * 39240) * 3.06889e-6 * 7)\n",
    "print(x)\n",
    "x = []\n",
    "# Low pred (optimistic)\n",
    "for month in range(12): # weekly/5 * 5/7 - daily loss -> daily total\n",
    "    x.append(adjlevel[month]*1/5 - (0.07002564766121058 + -2.310600109060327e-05  * 39240) * 3.06889e-6 * 7)\n",
    "print(x)"
   ]
  },
  {
   "cell_type": "code",
   "execution_count": 29,
   "metadata": {},
   "outputs": [
    {
     "data": {
      "application/vnd.plotly.v1+json": {
       "config": {
        "plotlyServerURL": "https://plot.ly"
       },
       "data": [
        {
         "mode": "markers",
         "name": "Groundwater",
         "type": "scatter",
         "x": [
          "Jan",
          "Feb",
          "Mar",
          "Apr",
          "May",
          "Jun",
          "Jul",
          "Aug",
          "Sep",
          "Oct",
          "Nov",
          "Dec"
         ],
         "xaxis": "x",
         "y": [
          -0.3445839352867924,
          -0.3488406591924913,
          -0.35453009901895777,
          -0.35615328875119895,
          -0.35929868949319,
          -0.3607762326900431,
          -0.3617492931530171,
          -0.36188141962635645,
          -0.3623093856539154,
          -0.3580795649265237,
          -0.34834382004708175,
          -0.34545883860168636
         ],
         "yaxis": "y"
        },
        {
         "mode": "markers",
         "name": "Surface water",
         "type": "scatter",
         "x": [
          "Jan",
          "Feb",
          "Mar",
          "Apr",
          "May",
          "Jun",
          "Jul",
          "Aug",
          "Sep",
          "Oct",
          "Nov",
          "Dec"
         ],
         "xaxis": "x2",
         "y": [
          -0.2741153126269156,
          -0.22981627262691573,
          -0.2741153126269156,
          -0.2741153126269156,
          -0.27196532262691564,
          -0.2741153126269156,
          -0.2741153126269156,
          -0.2741153126269156,
          -0.2741153126269156,
          -0.2741153126269156,
          -0.2741153126269156,
          -0.2741153126269156
         ],
         "yaxis": "y2"
        }
       ],
       "layout": {
        "annotations": [
         {
          "font": {
           "size": 16
          },
          "showarrow": false,
          "text": "Groundwater Gain",
          "x": 0.225,
          "xanchor": "center",
          "xref": "paper",
          "y": 1,
          "yanchor": "bottom",
          "yref": "paper"
         },
         {
          "font": {
           "size": 16
          },
          "showarrow": false,
          "text": "Surface Water Gain",
          "x": 0.775,
          "xanchor": "center",
          "xref": "paper",
          "y": 1,
          "yanchor": "bottom",
          "yref": "paper"
         }
        ],
        "height": 600,
        "template": {
         "data": {
          "bar": [
           {
            "error_x": {
             "color": "#2a3f5f"
            },
            "error_y": {
             "color": "#2a3f5f"
            },
            "marker": {
             "line": {
              "color": "#E5ECF6",
              "width": 0.5
             },
             "pattern": {
              "fillmode": "overlay",
              "size": 10,
              "solidity": 0.2
             }
            },
            "type": "bar"
           }
          ],
          "barpolar": [
           {
            "marker": {
             "line": {
              "color": "#E5ECF6",
              "width": 0.5
             },
             "pattern": {
              "fillmode": "overlay",
              "size": 10,
              "solidity": 0.2
             }
            },
            "type": "barpolar"
           }
          ],
          "carpet": [
           {
            "aaxis": {
             "endlinecolor": "#2a3f5f",
             "gridcolor": "white",
             "linecolor": "white",
             "minorgridcolor": "white",
             "startlinecolor": "#2a3f5f"
            },
            "baxis": {
             "endlinecolor": "#2a3f5f",
             "gridcolor": "white",
             "linecolor": "white",
             "minorgridcolor": "white",
             "startlinecolor": "#2a3f5f"
            },
            "type": "carpet"
           }
          ],
          "choropleth": [
           {
            "colorbar": {
             "outlinewidth": 0,
             "ticks": ""
            },
            "type": "choropleth"
           }
          ],
          "contour": [
           {
            "colorbar": {
             "outlinewidth": 0,
             "ticks": ""
            },
            "colorscale": [
             [
              0,
              "#0d0887"
             ],
             [
              0.1111111111111111,
              "#46039f"
             ],
             [
              0.2222222222222222,
              "#7201a8"
             ],
             [
              0.3333333333333333,
              "#9c179e"
             ],
             [
              0.4444444444444444,
              "#bd3786"
             ],
             [
              0.5555555555555556,
              "#d8576b"
             ],
             [
              0.6666666666666666,
              "#ed7953"
             ],
             [
              0.7777777777777778,
              "#fb9f3a"
             ],
             [
              0.8888888888888888,
              "#fdca26"
             ],
             [
              1,
              "#f0f921"
             ]
            ],
            "type": "contour"
           }
          ],
          "contourcarpet": [
           {
            "colorbar": {
             "outlinewidth": 0,
             "ticks": ""
            },
            "type": "contourcarpet"
           }
          ],
          "heatmap": [
           {
            "colorbar": {
             "outlinewidth": 0,
             "ticks": ""
            },
            "colorscale": [
             [
              0,
              "#0d0887"
             ],
             [
              0.1111111111111111,
              "#46039f"
             ],
             [
              0.2222222222222222,
              "#7201a8"
             ],
             [
              0.3333333333333333,
              "#9c179e"
             ],
             [
              0.4444444444444444,
              "#bd3786"
             ],
             [
              0.5555555555555556,
              "#d8576b"
             ],
             [
              0.6666666666666666,
              "#ed7953"
             ],
             [
              0.7777777777777778,
              "#fb9f3a"
             ],
             [
              0.8888888888888888,
              "#fdca26"
             ],
             [
              1,
              "#f0f921"
             ]
            ],
            "type": "heatmap"
           }
          ],
          "heatmapgl": [
           {
            "colorbar": {
             "outlinewidth": 0,
             "ticks": ""
            },
            "colorscale": [
             [
              0,
              "#0d0887"
             ],
             [
              0.1111111111111111,
              "#46039f"
             ],
             [
              0.2222222222222222,
              "#7201a8"
             ],
             [
              0.3333333333333333,
              "#9c179e"
             ],
             [
              0.4444444444444444,
              "#bd3786"
             ],
             [
              0.5555555555555556,
              "#d8576b"
             ],
             [
              0.6666666666666666,
              "#ed7953"
             ],
             [
              0.7777777777777778,
              "#fb9f3a"
             ],
             [
              0.8888888888888888,
              "#fdca26"
             ],
             [
              1,
              "#f0f921"
             ]
            ],
            "type": "heatmapgl"
           }
          ],
          "histogram": [
           {
            "marker": {
             "pattern": {
              "fillmode": "overlay",
              "size": 10,
              "solidity": 0.2
             }
            },
            "type": "histogram"
           }
          ],
          "histogram2d": [
           {
            "colorbar": {
             "outlinewidth": 0,
             "ticks": ""
            },
            "colorscale": [
             [
              0,
              "#0d0887"
             ],
             [
              0.1111111111111111,
              "#46039f"
             ],
             [
              0.2222222222222222,
              "#7201a8"
             ],
             [
              0.3333333333333333,
              "#9c179e"
             ],
             [
              0.4444444444444444,
              "#bd3786"
             ],
             [
              0.5555555555555556,
              "#d8576b"
             ],
             [
              0.6666666666666666,
              "#ed7953"
             ],
             [
              0.7777777777777778,
              "#fb9f3a"
             ],
             [
              0.8888888888888888,
              "#fdca26"
             ],
             [
              1,
              "#f0f921"
             ]
            ],
            "type": "histogram2d"
           }
          ],
          "histogram2dcontour": [
           {
            "colorbar": {
             "outlinewidth": 0,
             "ticks": ""
            },
            "colorscale": [
             [
              0,
              "#0d0887"
             ],
             [
              0.1111111111111111,
              "#46039f"
             ],
             [
              0.2222222222222222,
              "#7201a8"
             ],
             [
              0.3333333333333333,
              "#9c179e"
             ],
             [
              0.4444444444444444,
              "#bd3786"
             ],
             [
              0.5555555555555556,
              "#d8576b"
             ],
             [
              0.6666666666666666,
              "#ed7953"
             ],
             [
              0.7777777777777778,
              "#fb9f3a"
             ],
             [
              0.8888888888888888,
              "#fdca26"
             ],
             [
              1,
              "#f0f921"
             ]
            ],
            "type": "histogram2dcontour"
           }
          ],
          "mesh3d": [
           {
            "colorbar": {
             "outlinewidth": 0,
             "ticks": ""
            },
            "type": "mesh3d"
           }
          ],
          "parcoords": [
           {
            "line": {
             "colorbar": {
              "outlinewidth": 0,
              "ticks": ""
             }
            },
            "type": "parcoords"
           }
          ],
          "pie": [
           {
            "automargin": true,
            "type": "pie"
           }
          ],
          "scatter": [
           {
            "fillpattern": {
             "fillmode": "overlay",
             "size": 10,
             "solidity": 0.2
            },
            "type": "scatter"
           }
          ],
          "scatter3d": [
           {
            "line": {
             "colorbar": {
              "outlinewidth": 0,
              "ticks": ""
             }
            },
            "marker": {
             "colorbar": {
              "outlinewidth": 0,
              "ticks": ""
             }
            },
            "type": "scatter3d"
           }
          ],
          "scattercarpet": [
           {
            "marker": {
             "colorbar": {
              "outlinewidth": 0,
              "ticks": ""
             }
            },
            "type": "scattercarpet"
           }
          ],
          "scattergeo": [
           {
            "marker": {
             "colorbar": {
              "outlinewidth": 0,
              "ticks": ""
             }
            },
            "type": "scattergeo"
           }
          ],
          "scattergl": [
           {
            "marker": {
             "colorbar": {
              "outlinewidth": 0,
              "ticks": ""
             }
            },
            "type": "scattergl"
           }
          ],
          "scattermapbox": [
           {
            "marker": {
             "colorbar": {
              "outlinewidth": 0,
              "ticks": ""
             }
            },
            "type": "scattermapbox"
           }
          ],
          "scatterpolar": [
           {
            "marker": {
             "colorbar": {
              "outlinewidth": 0,
              "ticks": ""
             }
            },
            "type": "scatterpolar"
           }
          ],
          "scatterpolargl": [
           {
            "marker": {
             "colorbar": {
              "outlinewidth": 0,
              "ticks": ""
             }
            },
            "type": "scatterpolargl"
           }
          ],
          "scatterternary": [
           {
            "marker": {
             "colorbar": {
              "outlinewidth": 0,
              "ticks": ""
             }
            },
            "type": "scatterternary"
           }
          ],
          "surface": [
           {
            "colorbar": {
             "outlinewidth": 0,
             "ticks": ""
            },
            "colorscale": [
             [
              0,
              "#0d0887"
             ],
             [
              0.1111111111111111,
              "#46039f"
             ],
             [
              0.2222222222222222,
              "#7201a8"
             ],
             [
              0.3333333333333333,
              "#9c179e"
             ],
             [
              0.4444444444444444,
              "#bd3786"
             ],
             [
              0.5555555555555556,
              "#d8576b"
             ],
             [
              0.6666666666666666,
              "#ed7953"
             ],
             [
              0.7777777777777778,
              "#fb9f3a"
             ],
             [
              0.8888888888888888,
              "#fdca26"
             ],
             [
              1,
              "#f0f921"
             ]
            ],
            "type": "surface"
           }
          ],
          "table": [
           {
            "cells": {
             "fill": {
              "color": "#EBF0F8"
             },
             "line": {
              "color": "white"
             }
            },
            "header": {
             "fill": {
              "color": "#C8D4E3"
             },
             "line": {
              "color": "white"
             }
            },
            "type": "table"
           }
          ]
         },
         "layout": {
          "annotationdefaults": {
           "arrowcolor": "#2a3f5f",
           "arrowhead": 0,
           "arrowwidth": 1
          },
          "autotypenumbers": "strict",
          "coloraxis": {
           "colorbar": {
            "outlinewidth": 0,
            "ticks": ""
           }
          },
          "colorscale": {
           "diverging": [
            [
             0,
             "#8e0152"
            ],
            [
             0.1,
             "#c51b7d"
            ],
            [
             0.2,
             "#de77ae"
            ],
            [
             0.3,
             "#f1b6da"
            ],
            [
             0.4,
             "#fde0ef"
            ],
            [
             0.5,
             "#f7f7f7"
            ],
            [
             0.6,
             "#e6f5d0"
            ],
            [
             0.7,
             "#b8e186"
            ],
            [
             0.8,
             "#7fbc41"
            ],
            [
             0.9,
             "#4d9221"
            ],
            [
             1,
             "#276419"
            ]
           ],
           "sequential": [
            [
             0,
             "#0d0887"
            ],
            [
             0.1111111111111111,
             "#46039f"
            ],
            [
             0.2222222222222222,
             "#7201a8"
            ],
            [
             0.3333333333333333,
             "#9c179e"
            ],
            [
             0.4444444444444444,
             "#bd3786"
            ],
            [
             0.5555555555555556,
             "#d8576b"
            ],
            [
             0.6666666666666666,
             "#ed7953"
            ],
            [
             0.7777777777777778,
             "#fb9f3a"
            ],
            [
             0.8888888888888888,
             "#fdca26"
            ],
            [
             1,
             "#f0f921"
            ]
           ],
           "sequentialminus": [
            [
             0,
             "#0d0887"
            ],
            [
             0.1111111111111111,
             "#46039f"
            ],
            [
             0.2222222222222222,
             "#7201a8"
            ],
            [
             0.3333333333333333,
             "#9c179e"
            ],
            [
             0.4444444444444444,
             "#bd3786"
            ],
            [
             0.5555555555555556,
             "#d8576b"
            ],
            [
             0.6666666666666666,
             "#ed7953"
            ],
            [
             0.7777777777777778,
             "#fb9f3a"
            ],
            [
             0.8888888888888888,
             "#fdca26"
            ],
            [
             1,
             "#f0f921"
            ]
           ]
          },
          "colorway": [
           "#636efa",
           "#EF553B",
           "#00cc96",
           "#ab63fa",
           "#FFA15A",
           "#19d3f3",
           "#FF6692",
           "#B6E880",
           "#FF97FF",
           "#FECB52"
          ],
          "font": {
           "color": "#2a3f5f"
          },
          "geo": {
           "bgcolor": "white",
           "lakecolor": "white",
           "landcolor": "#E5ECF6",
           "showlakes": true,
           "showland": true,
           "subunitcolor": "white"
          },
          "hoverlabel": {
           "align": "left"
          },
          "hovermode": "closest",
          "mapbox": {
           "style": "light"
          },
          "paper_bgcolor": "white",
          "plot_bgcolor": "#E5ECF6",
          "polar": {
           "angularaxis": {
            "gridcolor": "white",
            "linecolor": "white",
            "ticks": ""
           },
           "bgcolor": "#E5ECF6",
           "radialaxis": {
            "gridcolor": "white",
            "linecolor": "white",
            "ticks": ""
           }
          },
          "scene": {
           "xaxis": {
            "backgroundcolor": "#E5ECF6",
            "gridcolor": "white",
            "gridwidth": 2,
            "linecolor": "white",
            "showbackground": true,
            "ticks": "",
            "zerolinecolor": "white"
           },
           "yaxis": {
            "backgroundcolor": "#E5ECF6",
            "gridcolor": "white",
            "gridwidth": 2,
            "linecolor": "white",
            "showbackground": true,
            "ticks": "",
            "zerolinecolor": "white"
           },
           "zaxis": {
            "backgroundcolor": "#E5ECF6",
            "gridcolor": "white",
            "gridwidth": 2,
            "linecolor": "white",
            "showbackground": true,
            "ticks": "",
            "zerolinecolor": "white"
           }
          },
          "shapedefaults": {
           "line": {
            "color": "#2a3f5f"
           }
          },
          "ternary": {
           "aaxis": {
            "gridcolor": "white",
            "linecolor": "white",
            "ticks": ""
           },
           "baxis": {
            "gridcolor": "white",
            "linecolor": "white",
            "ticks": ""
           },
           "bgcolor": "#E5ECF6",
           "caxis": {
            "gridcolor": "white",
            "linecolor": "white",
            "ticks": ""
           }
          },
          "title": {
           "x": 0.05
          },
          "xaxis": {
           "automargin": true,
           "gridcolor": "white",
           "linecolor": "white",
           "ticks": "",
           "title": {
            "standoff": 15
           },
           "zerolinecolor": "white",
           "zerolinewidth": 2
          },
          "yaxis": {
           "automargin": true,
           "gridcolor": "white",
           "linecolor": "white",
           "ticks": "",
           "title": {
            "standoff": 15
           },
           "zerolinecolor": "white",
           "zerolinewidth": 2
          }
         }
        },
        "title": {
         "text": "Minimal Prediction"
        },
        "width": 1200,
        "xaxis": {
         "anchor": "y",
         "domain": [
          0,
          0.45
         ],
         "title": {
          "text": "Month"
         }
        },
        "xaxis2": {
         "anchor": "y2",
         "domain": [
          0.55,
          1
         ],
         "title": {
          "text": "Month"
         }
        },
        "yaxis": {
         "anchor": "x",
         "domain": [
          0,
          1
         ],
         "range": [
          -0.38,
          -0.22
         ],
         "title": {
          "text": "Supply Gain/Loss (maf/week)"
         }
        },
        "yaxis2": {
         "anchor": "x2",
         "domain": [
          0,
          1
         ],
         "range": [
          -0.38,
          -0.22
         ],
         "title": {
          "text": "Supply Gain/Loss (maf/week)"
         }
        }
       }
      }
     },
     "metadata": {},
     "output_type": "display_data"
    },
    {
     "data": {
      "application/vnd.plotly.v1+json": {
       "config": {
        "plotlyServerURL": "https://plot.ly"
       },
       "data": [
        {
         "mode": "markers",
         "name": "Groundwater",
         "type": "scatter",
         "x": [
          "Jan",
          "Feb",
          "Mar",
          "Apr",
          "May",
          "Jun",
          "Jul",
          "Aug",
          "Sep",
          "Oct",
          "Nov",
          "Dec"
         ],
         "xaxis": "x",
         "y": [
          0.03733323667283315,
          0.03307651276713421,
          0.027387072940667757,
          0.025763883208426604,
          0.022618482466435573,
          0.021140939269582444,
          0.0201678788066084,
          0.02003575233326909,
          0.019607786305710133,
          0.023837607033101844,
          0.03357335191254376,
          0.03645833335793915
         ],
         "yaxis": "y"
        },
        {
         "mode": "markers",
         "name": "Surface water",
         "type": "scatter",
         "x": [
          "Jan",
          "Feb",
          "Mar",
          "Apr",
          "May",
          "Jun",
          "Jul",
          "Aug",
          "Sep",
          "Oct",
          "Nov",
          "Dec"
         ],
         "xaxis": "x2",
         "y": [
          -0.044096633500591675,
          0.00020240649940839184,
          -0.044096633500591675,
          -0.044096633500591675,
          -0.04194664350059163,
          -0.044096633500591675,
          -0.044096633500591675,
          -0.044096633500591675,
          -0.044096633500591675,
          -0.044096633500591675,
          -0.044096633500591675,
          -0.044096633500591675
         ],
         "yaxis": "y2"
        }
       ],
       "layout": {
        "annotations": [
         {
          "font": {
           "size": 16
          },
          "showarrow": false,
          "text": "Groundwater Gain",
          "x": 0.225,
          "xanchor": "center",
          "xref": "paper",
          "y": 1,
          "yanchor": "bottom",
          "yref": "paper"
         },
         {
          "font": {
           "size": 16
          },
          "showarrow": false,
          "text": "Surface Water Gain",
          "x": 0.775,
          "xanchor": "center",
          "xref": "paper",
          "y": 1,
          "yanchor": "bottom",
          "yref": "paper"
         }
        ],
        "height": 600,
        "template": {
         "data": {
          "bar": [
           {
            "error_x": {
             "color": "#2a3f5f"
            },
            "error_y": {
             "color": "#2a3f5f"
            },
            "marker": {
             "line": {
              "color": "#E5ECF6",
              "width": 0.5
             },
             "pattern": {
              "fillmode": "overlay",
              "size": 10,
              "solidity": 0.2
             }
            },
            "type": "bar"
           }
          ],
          "barpolar": [
           {
            "marker": {
             "line": {
              "color": "#E5ECF6",
              "width": 0.5
             },
             "pattern": {
              "fillmode": "overlay",
              "size": 10,
              "solidity": 0.2
             }
            },
            "type": "barpolar"
           }
          ],
          "carpet": [
           {
            "aaxis": {
             "endlinecolor": "#2a3f5f",
             "gridcolor": "white",
             "linecolor": "white",
             "minorgridcolor": "white",
             "startlinecolor": "#2a3f5f"
            },
            "baxis": {
             "endlinecolor": "#2a3f5f",
             "gridcolor": "white",
             "linecolor": "white",
             "minorgridcolor": "white",
             "startlinecolor": "#2a3f5f"
            },
            "type": "carpet"
           }
          ],
          "choropleth": [
           {
            "colorbar": {
             "outlinewidth": 0,
             "ticks": ""
            },
            "type": "choropleth"
           }
          ],
          "contour": [
           {
            "colorbar": {
             "outlinewidth": 0,
             "ticks": ""
            },
            "colorscale": [
             [
              0,
              "#0d0887"
             ],
             [
              0.1111111111111111,
              "#46039f"
             ],
             [
              0.2222222222222222,
              "#7201a8"
             ],
             [
              0.3333333333333333,
              "#9c179e"
             ],
             [
              0.4444444444444444,
              "#bd3786"
             ],
             [
              0.5555555555555556,
              "#d8576b"
             ],
             [
              0.6666666666666666,
              "#ed7953"
             ],
             [
              0.7777777777777778,
              "#fb9f3a"
             ],
             [
              0.8888888888888888,
              "#fdca26"
             ],
             [
              1,
              "#f0f921"
             ]
            ],
            "type": "contour"
           }
          ],
          "contourcarpet": [
           {
            "colorbar": {
             "outlinewidth": 0,
             "ticks": ""
            },
            "type": "contourcarpet"
           }
          ],
          "heatmap": [
           {
            "colorbar": {
             "outlinewidth": 0,
             "ticks": ""
            },
            "colorscale": [
             [
              0,
              "#0d0887"
             ],
             [
              0.1111111111111111,
              "#46039f"
             ],
             [
              0.2222222222222222,
              "#7201a8"
             ],
             [
              0.3333333333333333,
              "#9c179e"
             ],
             [
              0.4444444444444444,
              "#bd3786"
             ],
             [
              0.5555555555555556,
              "#d8576b"
             ],
             [
              0.6666666666666666,
              "#ed7953"
             ],
             [
              0.7777777777777778,
              "#fb9f3a"
             ],
             [
              0.8888888888888888,
              "#fdca26"
             ],
             [
              1,
              "#f0f921"
             ]
            ],
            "type": "heatmap"
           }
          ],
          "heatmapgl": [
           {
            "colorbar": {
             "outlinewidth": 0,
             "ticks": ""
            },
            "colorscale": [
             [
              0,
              "#0d0887"
             ],
             [
              0.1111111111111111,
              "#46039f"
             ],
             [
              0.2222222222222222,
              "#7201a8"
             ],
             [
              0.3333333333333333,
              "#9c179e"
             ],
             [
              0.4444444444444444,
              "#bd3786"
             ],
             [
              0.5555555555555556,
              "#d8576b"
             ],
             [
              0.6666666666666666,
              "#ed7953"
             ],
             [
              0.7777777777777778,
              "#fb9f3a"
             ],
             [
              0.8888888888888888,
              "#fdca26"
             ],
             [
              1,
              "#f0f921"
             ]
            ],
            "type": "heatmapgl"
           }
          ],
          "histogram": [
           {
            "marker": {
             "pattern": {
              "fillmode": "overlay",
              "size": 10,
              "solidity": 0.2
             }
            },
            "type": "histogram"
           }
          ],
          "histogram2d": [
           {
            "colorbar": {
             "outlinewidth": 0,
             "ticks": ""
            },
            "colorscale": [
             [
              0,
              "#0d0887"
             ],
             [
              0.1111111111111111,
              "#46039f"
             ],
             [
              0.2222222222222222,
              "#7201a8"
             ],
             [
              0.3333333333333333,
              "#9c179e"
             ],
             [
              0.4444444444444444,
              "#bd3786"
             ],
             [
              0.5555555555555556,
              "#d8576b"
             ],
             [
              0.6666666666666666,
              "#ed7953"
             ],
             [
              0.7777777777777778,
              "#fb9f3a"
             ],
             [
              0.8888888888888888,
              "#fdca26"
             ],
             [
              1,
              "#f0f921"
             ]
            ],
            "type": "histogram2d"
           }
          ],
          "histogram2dcontour": [
           {
            "colorbar": {
             "outlinewidth": 0,
             "ticks": ""
            },
            "colorscale": [
             [
              0,
              "#0d0887"
             ],
             [
              0.1111111111111111,
              "#46039f"
             ],
             [
              0.2222222222222222,
              "#7201a8"
             ],
             [
              0.3333333333333333,
              "#9c179e"
             ],
             [
              0.4444444444444444,
              "#bd3786"
             ],
             [
              0.5555555555555556,
              "#d8576b"
             ],
             [
              0.6666666666666666,
              "#ed7953"
             ],
             [
              0.7777777777777778,
              "#fb9f3a"
             ],
             [
              0.8888888888888888,
              "#fdca26"
             ],
             [
              1,
              "#f0f921"
             ]
            ],
            "type": "histogram2dcontour"
           }
          ],
          "mesh3d": [
           {
            "colorbar": {
             "outlinewidth": 0,
             "ticks": ""
            },
            "type": "mesh3d"
           }
          ],
          "parcoords": [
           {
            "line": {
             "colorbar": {
              "outlinewidth": 0,
              "ticks": ""
             }
            },
            "type": "parcoords"
           }
          ],
          "pie": [
           {
            "automargin": true,
            "type": "pie"
           }
          ],
          "scatter": [
           {
            "fillpattern": {
             "fillmode": "overlay",
             "size": 10,
             "solidity": 0.2
            },
            "type": "scatter"
           }
          ],
          "scatter3d": [
           {
            "line": {
             "colorbar": {
              "outlinewidth": 0,
              "ticks": ""
             }
            },
            "marker": {
             "colorbar": {
              "outlinewidth": 0,
              "ticks": ""
             }
            },
            "type": "scatter3d"
           }
          ],
          "scattercarpet": [
           {
            "marker": {
             "colorbar": {
              "outlinewidth": 0,
              "ticks": ""
             }
            },
            "type": "scattercarpet"
           }
          ],
          "scattergeo": [
           {
            "marker": {
             "colorbar": {
              "outlinewidth": 0,
              "ticks": ""
             }
            },
            "type": "scattergeo"
           }
          ],
          "scattergl": [
           {
            "marker": {
             "colorbar": {
              "outlinewidth": 0,
              "ticks": ""
             }
            },
            "type": "scattergl"
           }
          ],
          "scattermapbox": [
           {
            "marker": {
             "colorbar": {
              "outlinewidth": 0,
              "ticks": ""
             }
            },
            "type": "scattermapbox"
           }
          ],
          "scatterpolar": [
           {
            "marker": {
             "colorbar": {
              "outlinewidth": 0,
              "ticks": ""
             }
            },
            "type": "scatterpolar"
           }
          ],
          "scatterpolargl": [
           {
            "marker": {
             "colorbar": {
              "outlinewidth": 0,
              "ticks": ""
             }
            },
            "type": "scatterpolargl"
           }
          ],
          "scatterternary": [
           {
            "marker": {
             "colorbar": {
              "outlinewidth": 0,
              "ticks": ""
             }
            },
            "type": "scatterternary"
           }
          ],
          "surface": [
           {
            "colorbar": {
             "outlinewidth": 0,
             "ticks": ""
            },
            "colorscale": [
             [
              0,
              "#0d0887"
             ],
             [
              0.1111111111111111,
              "#46039f"
             ],
             [
              0.2222222222222222,
              "#7201a8"
             ],
             [
              0.3333333333333333,
              "#9c179e"
             ],
             [
              0.4444444444444444,
              "#bd3786"
             ],
             [
              0.5555555555555556,
              "#d8576b"
             ],
             [
              0.6666666666666666,
              "#ed7953"
             ],
             [
              0.7777777777777778,
              "#fb9f3a"
             ],
             [
              0.8888888888888888,
              "#fdca26"
             ],
             [
              1,
              "#f0f921"
             ]
            ],
            "type": "surface"
           }
          ],
          "table": [
           {
            "cells": {
             "fill": {
              "color": "#EBF0F8"
             },
             "line": {
              "color": "white"
             }
            },
            "header": {
             "fill": {
              "color": "#C8D4E3"
             },
             "line": {
              "color": "white"
             }
            },
            "type": "table"
           }
          ]
         },
         "layout": {
          "annotationdefaults": {
           "arrowcolor": "#2a3f5f",
           "arrowhead": 0,
           "arrowwidth": 1
          },
          "autotypenumbers": "strict",
          "coloraxis": {
           "colorbar": {
            "outlinewidth": 0,
            "ticks": ""
           }
          },
          "colorscale": {
           "diverging": [
            [
             0,
             "#8e0152"
            ],
            [
             0.1,
             "#c51b7d"
            ],
            [
             0.2,
             "#de77ae"
            ],
            [
             0.3,
             "#f1b6da"
            ],
            [
             0.4,
             "#fde0ef"
            ],
            [
             0.5,
             "#f7f7f7"
            ],
            [
             0.6,
             "#e6f5d0"
            ],
            [
             0.7,
             "#b8e186"
            ],
            [
             0.8,
             "#7fbc41"
            ],
            [
             0.9,
             "#4d9221"
            ],
            [
             1,
             "#276419"
            ]
           ],
           "sequential": [
            [
             0,
             "#0d0887"
            ],
            [
             0.1111111111111111,
             "#46039f"
            ],
            [
             0.2222222222222222,
             "#7201a8"
            ],
            [
             0.3333333333333333,
             "#9c179e"
            ],
            [
             0.4444444444444444,
             "#bd3786"
            ],
            [
             0.5555555555555556,
             "#d8576b"
            ],
            [
             0.6666666666666666,
             "#ed7953"
            ],
            [
             0.7777777777777778,
             "#fb9f3a"
            ],
            [
             0.8888888888888888,
             "#fdca26"
            ],
            [
             1,
             "#f0f921"
            ]
           ],
           "sequentialminus": [
            [
             0,
             "#0d0887"
            ],
            [
             0.1111111111111111,
             "#46039f"
            ],
            [
             0.2222222222222222,
             "#7201a8"
            ],
            [
             0.3333333333333333,
             "#9c179e"
            ],
            [
             0.4444444444444444,
             "#bd3786"
            ],
            [
             0.5555555555555556,
             "#d8576b"
            ],
            [
             0.6666666666666666,
             "#ed7953"
            ],
            [
             0.7777777777777778,
             "#fb9f3a"
            ],
            [
             0.8888888888888888,
             "#fdca26"
            ],
            [
             1,
             "#f0f921"
            ]
           ]
          },
          "colorway": [
           "#636efa",
           "#EF553B",
           "#00cc96",
           "#ab63fa",
           "#FFA15A",
           "#19d3f3",
           "#FF6692",
           "#B6E880",
           "#FF97FF",
           "#FECB52"
          ],
          "font": {
           "color": "#2a3f5f"
          },
          "geo": {
           "bgcolor": "white",
           "lakecolor": "white",
           "landcolor": "#E5ECF6",
           "showlakes": true,
           "showland": true,
           "subunitcolor": "white"
          },
          "hoverlabel": {
           "align": "left"
          },
          "hovermode": "closest",
          "mapbox": {
           "style": "light"
          },
          "paper_bgcolor": "white",
          "plot_bgcolor": "#E5ECF6",
          "polar": {
           "angularaxis": {
            "gridcolor": "white",
            "linecolor": "white",
            "ticks": ""
           },
           "bgcolor": "#E5ECF6",
           "radialaxis": {
            "gridcolor": "white",
            "linecolor": "white",
            "ticks": ""
           }
          },
          "scene": {
           "xaxis": {
            "backgroundcolor": "#E5ECF6",
            "gridcolor": "white",
            "gridwidth": 2,
            "linecolor": "white",
            "showbackground": true,
            "ticks": "",
            "zerolinecolor": "white"
           },
           "yaxis": {
            "backgroundcolor": "#E5ECF6",
            "gridcolor": "white",
            "gridwidth": 2,
            "linecolor": "white",
            "showbackground": true,
            "ticks": "",
            "zerolinecolor": "white"
           },
           "zaxis": {
            "backgroundcolor": "#E5ECF6",
            "gridcolor": "white",
            "gridwidth": 2,
            "linecolor": "white",
            "showbackground": true,
            "ticks": "",
            "zerolinecolor": "white"
           }
          },
          "shapedefaults": {
           "line": {
            "color": "#2a3f5f"
           }
          },
          "ternary": {
           "aaxis": {
            "gridcolor": "white",
            "linecolor": "white",
            "ticks": ""
           },
           "baxis": {
            "gridcolor": "white",
            "linecolor": "white",
            "ticks": ""
           },
           "bgcolor": "#E5ECF6",
           "caxis": {
            "gridcolor": "white",
            "linecolor": "white",
            "ticks": ""
           }
          },
          "title": {
           "x": 0.05
          },
          "xaxis": {
           "automargin": true,
           "gridcolor": "white",
           "linecolor": "white",
           "ticks": "",
           "title": {
            "standoff": 15
           },
           "zerolinecolor": "white",
           "zerolinewidth": 2
          },
          "yaxis": {
           "automargin": true,
           "gridcolor": "white",
           "linecolor": "white",
           "ticks": "",
           "title": {
            "standoff": 15
           },
           "zerolinecolor": "white",
           "zerolinewidth": 2
          }
         }
        },
        "title": {
         "text": "Normal Prediction"
        },
        "width": 1200,
        "xaxis": {
         "anchor": "y",
         "domain": [
          0,
          0.45
         ],
         "title": {
          "text": "Month"
         }
        },
        "xaxis2": {
         "anchor": "y2",
         "domain": [
          0.55,
          1
         ],
         "title": {
          "text": "Month"
         }
        },
        "yaxis": {
         "anchor": "x",
         "domain": [
          0,
          1
         ],
         "range": [
          -0.05,
          0.04
         ],
         "title": {
          "text": "Supply Gain/Loss (maf/week)"
         }
        },
        "yaxis2": {
         "anchor": "x2",
         "domain": [
          0,
          1
         ],
         "range": [
          -0.05,
          0.04
         ],
         "title": {
          "text": "Supply Gain/Loss (maf/week)"
         }
        }
       }
      }
     },
     "metadata": {},
     "output_type": "display_data"
    },
    {
     "data": {
      "application/vnd.plotly.v1+json": {
       "config": {
        "plotlyServerURL": "https://plot.ly"
       },
       "data": [
        {
         "mode": "markers",
         "name": "Groundwater",
         "type": "scatter",
         "x": [
          "Jan",
          "Feb",
          "Mar",
          "Apr",
          "May",
          "Jun",
          "Jul",
          "Aug",
          "Sep",
          "Oct",
          "Nov",
          "Dec"
         ],
         "xaxis": "x",
         "y": [
          0.08144784499925974,
          0.0771911210935608,
          0.07150168126709434,
          0.06987849153485319,
          0.06673309079286216,
          0.06525554759600903,
          0.06428248713303499,
          0.06415036065969568,
          0.06372239463213672,
          0.06795221535952843,
          0.07768796023897034,
          0.08057294168436574
         ],
         "yaxis": "y"
        },
        {
         "mode": "markers",
         "name": "Surface water",
         "type": "scatter",
         "x": [
          "Jan",
          "Feb",
          "Mar",
          "Apr",
          "May",
          "Jun",
          "Jul",
          "Aug",
          "Sep",
          "Oct",
          "Nov",
          "Dec"
         ],
         "xaxis": "x2",
         "y": [
          -0.00047773396419666884,
          0.04382130603580334,
          -0.00047773396419666884,
          -0.00047773396419666884,
          0.0016722560358033317,
          -0.00047773396419666884,
          -0.00047773396419666884,
          -0.00047773396419666884,
          -0.00047773396419666884,
          -0.00047773396419666884,
          -0.00047773396419666884,
          -0.00047773396419666884
         ],
         "yaxis": "y2"
        }
       ],
       "layout": {
        "annotations": [
         {
          "font": {
           "size": 16
          },
          "showarrow": false,
          "text": "Groundwater Gain",
          "x": 0.225,
          "xanchor": "center",
          "xref": "paper",
          "y": 1,
          "yanchor": "bottom",
          "yref": "paper"
         },
         {
          "font": {
           "size": 16
          },
          "showarrow": false,
          "text": "Surface Water Gain",
          "x": 0.775,
          "xanchor": "center",
          "xref": "paper",
          "y": 1,
          "yanchor": "bottom",
          "yref": "paper"
         }
        ],
        "height": 600,
        "template": {
         "data": {
          "bar": [
           {
            "error_x": {
             "color": "#2a3f5f"
            },
            "error_y": {
             "color": "#2a3f5f"
            },
            "marker": {
             "line": {
              "color": "#E5ECF6",
              "width": 0.5
             },
             "pattern": {
              "fillmode": "overlay",
              "size": 10,
              "solidity": 0.2
             }
            },
            "type": "bar"
           }
          ],
          "barpolar": [
           {
            "marker": {
             "line": {
              "color": "#E5ECF6",
              "width": 0.5
             },
             "pattern": {
              "fillmode": "overlay",
              "size": 10,
              "solidity": 0.2
             }
            },
            "type": "barpolar"
           }
          ],
          "carpet": [
           {
            "aaxis": {
             "endlinecolor": "#2a3f5f",
             "gridcolor": "white",
             "linecolor": "white",
             "minorgridcolor": "white",
             "startlinecolor": "#2a3f5f"
            },
            "baxis": {
             "endlinecolor": "#2a3f5f",
             "gridcolor": "white",
             "linecolor": "white",
             "minorgridcolor": "white",
             "startlinecolor": "#2a3f5f"
            },
            "type": "carpet"
           }
          ],
          "choropleth": [
           {
            "colorbar": {
             "outlinewidth": 0,
             "ticks": ""
            },
            "type": "choropleth"
           }
          ],
          "contour": [
           {
            "colorbar": {
             "outlinewidth": 0,
             "ticks": ""
            },
            "colorscale": [
             [
              0,
              "#0d0887"
             ],
             [
              0.1111111111111111,
              "#46039f"
             ],
             [
              0.2222222222222222,
              "#7201a8"
             ],
             [
              0.3333333333333333,
              "#9c179e"
             ],
             [
              0.4444444444444444,
              "#bd3786"
             ],
             [
              0.5555555555555556,
              "#d8576b"
             ],
             [
              0.6666666666666666,
              "#ed7953"
             ],
             [
              0.7777777777777778,
              "#fb9f3a"
             ],
             [
              0.8888888888888888,
              "#fdca26"
             ],
             [
              1,
              "#f0f921"
             ]
            ],
            "type": "contour"
           }
          ],
          "contourcarpet": [
           {
            "colorbar": {
             "outlinewidth": 0,
             "ticks": ""
            },
            "type": "contourcarpet"
           }
          ],
          "heatmap": [
           {
            "colorbar": {
             "outlinewidth": 0,
             "ticks": ""
            },
            "colorscale": [
             [
              0,
              "#0d0887"
             ],
             [
              0.1111111111111111,
              "#46039f"
             ],
             [
              0.2222222222222222,
              "#7201a8"
             ],
             [
              0.3333333333333333,
              "#9c179e"
             ],
             [
              0.4444444444444444,
              "#bd3786"
             ],
             [
              0.5555555555555556,
              "#d8576b"
             ],
             [
              0.6666666666666666,
              "#ed7953"
             ],
             [
              0.7777777777777778,
              "#fb9f3a"
             ],
             [
              0.8888888888888888,
              "#fdca26"
             ],
             [
              1,
              "#f0f921"
             ]
            ],
            "type": "heatmap"
           }
          ],
          "heatmapgl": [
           {
            "colorbar": {
             "outlinewidth": 0,
             "ticks": ""
            },
            "colorscale": [
             [
              0,
              "#0d0887"
             ],
             [
              0.1111111111111111,
              "#46039f"
             ],
             [
              0.2222222222222222,
              "#7201a8"
             ],
             [
              0.3333333333333333,
              "#9c179e"
             ],
             [
              0.4444444444444444,
              "#bd3786"
             ],
             [
              0.5555555555555556,
              "#d8576b"
             ],
             [
              0.6666666666666666,
              "#ed7953"
             ],
             [
              0.7777777777777778,
              "#fb9f3a"
             ],
             [
              0.8888888888888888,
              "#fdca26"
             ],
             [
              1,
              "#f0f921"
             ]
            ],
            "type": "heatmapgl"
           }
          ],
          "histogram": [
           {
            "marker": {
             "pattern": {
              "fillmode": "overlay",
              "size": 10,
              "solidity": 0.2
             }
            },
            "type": "histogram"
           }
          ],
          "histogram2d": [
           {
            "colorbar": {
             "outlinewidth": 0,
             "ticks": ""
            },
            "colorscale": [
             [
              0,
              "#0d0887"
             ],
             [
              0.1111111111111111,
              "#46039f"
             ],
             [
              0.2222222222222222,
              "#7201a8"
             ],
             [
              0.3333333333333333,
              "#9c179e"
             ],
             [
              0.4444444444444444,
              "#bd3786"
             ],
             [
              0.5555555555555556,
              "#d8576b"
             ],
             [
              0.6666666666666666,
              "#ed7953"
             ],
             [
              0.7777777777777778,
              "#fb9f3a"
             ],
             [
              0.8888888888888888,
              "#fdca26"
             ],
             [
              1,
              "#f0f921"
             ]
            ],
            "type": "histogram2d"
           }
          ],
          "histogram2dcontour": [
           {
            "colorbar": {
             "outlinewidth": 0,
             "ticks": ""
            },
            "colorscale": [
             [
              0,
              "#0d0887"
             ],
             [
              0.1111111111111111,
              "#46039f"
             ],
             [
              0.2222222222222222,
              "#7201a8"
             ],
             [
              0.3333333333333333,
              "#9c179e"
             ],
             [
              0.4444444444444444,
              "#bd3786"
             ],
             [
              0.5555555555555556,
              "#d8576b"
             ],
             [
              0.6666666666666666,
              "#ed7953"
             ],
             [
              0.7777777777777778,
              "#fb9f3a"
             ],
             [
              0.8888888888888888,
              "#fdca26"
             ],
             [
              1,
              "#f0f921"
             ]
            ],
            "type": "histogram2dcontour"
           }
          ],
          "mesh3d": [
           {
            "colorbar": {
             "outlinewidth": 0,
             "ticks": ""
            },
            "type": "mesh3d"
           }
          ],
          "parcoords": [
           {
            "line": {
             "colorbar": {
              "outlinewidth": 0,
              "ticks": ""
             }
            },
            "type": "parcoords"
           }
          ],
          "pie": [
           {
            "automargin": true,
            "type": "pie"
           }
          ],
          "scatter": [
           {
            "fillpattern": {
             "fillmode": "overlay",
             "size": 10,
             "solidity": 0.2
            },
            "type": "scatter"
           }
          ],
          "scatter3d": [
           {
            "line": {
             "colorbar": {
              "outlinewidth": 0,
              "ticks": ""
             }
            },
            "marker": {
             "colorbar": {
              "outlinewidth": 0,
              "ticks": ""
             }
            },
            "type": "scatter3d"
           }
          ],
          "scattercarpet": [
           {
            "marker": {
             "colorbar": {
              "outlinewidth": 0,
              "ticks": ""
             }
            },
            "type": "scattercarpet"
           }
          ],
          "scattergeo": [
           {
            "marker": {
             "colorbar": {
              "outlinewidth": 0,
              "ticks": ""
             }
            },
            "type": "scattergeo"
           }
          ],
          "scattergl": [
           {
            "marker": {
             "colorbar": {
              "outlinewidth": 0,
              "ticks": ""
             }
            },
            "type": "scattergl"
           }
          ],
          "scattermapbox": [
           {
            "marker": {
             "colorbar": {
              "outlinewidth": 0,
              "ticks": ""
             }
            },
            "type": "scattermapbox"
           }
          ],
          "scatterpolar": [
           {
            "marker": {
             "colorbar": {
              "outlinewidth": 0,
              "ticks": ""
             }
            },
            "type": "scatterpolar"
           }
          ],
          "scatterpolargl": [
           {
            "marker": {
             "colorbar": {
              "outlinewidth": 0,
              "ticks": ""
             }
            },
            "type": "scatterpolargl"
           }
          ],
          "scatterternary": [
           {
            "marker": {
             "colorbar": {
              "outlinewidth": 0,
              "ticks": ""
             }
            },
            "type": "scatterternary"
           }
          ],
          "surface": [
           {
            "colorbar": {
             "outlinewidth": 0,
             "ticks": ""
            },
            "colorscale": [
             [
              0,
              "#0d0887"
             ],
             [
              0.1111111111111111,
              "#46039f"
             ],
             [
              0.2222222222222222,
              "#7201a8"
             ],
             [
              0.3333333333333333,
              "#9c179e"
             ],
             [
              0.4444444444444444,
              "#bd3786"
             ],
             [
              0.5555555555555556,
              "#d8576b"
             ],
             [
              0.6666666666666666,
              "#ed7953"
             ],
             [
              0.7777777777777778,
              "#fb9f3a"
             ],
             [
              0.8888888888888888,
              "#fdca26"
             ],
             [
              1,
              "#f0f921"
             ]
            ],
            "type": "surface"
           }
          ],
          "table": [
           {
            "cells": {
             "fill": {
              "color": "#EBF0F8"
             },
             "line": {
              "color": "white"
             }
            },
            "header": {
             "fill": {
              "color": "#C8D4E3"
             },
             "line": {
              "color": "white"
             }
            },
            "type": "table"
           }
          ]
         },
         "layout": {
          "annotationdefaults": {
           "arrowcolor": "#2a3f5f",
           "arrowhead": 0,
           "arrowwidth": 1
          },
          "autotypenumbers": "strict",
          "coloraxis": {
           "colorbar": {
            "outlinewidth": 0,
            "ticks": ""
           }
          },
          "colorscale": {
           "diverging": [
            [
             0,
             "#8e0152"
            ],
            [
             0.1,
             "#c51b7d"
            ],
            [
             0.2,
             "#de77ae"
            ],
            [
             0.3,
             "#f1b6da"
            ],
            [
             0.4,
             "#fde0ef"
            ],
            [
             0.5,
             "#f7f7f7"
            ],
            [
             0.6,
             "#e6f5d0"
            ],
            [
             0.7,
             "#b8e186"
            ],
            [
             0.8,
             "#7fbc41"
            ],
            [
             0.9,
             "#4d9221"
            ],
            [
             1,
             "#276419"
            ]
           ],
           "sequential": [
            [
             0,
             "#0d0887"
            ],
            [
             0.1111111111111111,
             "#46039f"
            ],
            [
             0.2222222222222222,
             "#7201a8"
            ],
            [
             0.3333333333333333,
             "#9c179e"
            ],
            [
             0.4444444444444444,
             "#bd3786"
            ],
            [
             0.5555555555555556,
             "#d8576b"
            ],
            [
             0.6666666666666666,
             "#ed7953"
            ],
            [
             0.7777777777777778,
             "#fb9f3a"
            ],
            [
             0.8888888888888888,
             "#fdca26"
            ],
            [
             1,
             "#f0f921"
            ]
           ],
           "sequentialminus": [
            [
             0,
             "#0d0887"
            ],
            [
             0.1111111111111111,
             "#46039f"
            ],
            [
             0.2222222222222222,
             "#7201a8"
            ],
            [
             0.3333333333333333,
             "#9c179e"
            ],
            [
             0.4444444444444444,
             "#bd3786"
            ],
            [
             0.5555555555555556,
             "#d8576b"
            ],
            [
             0.6666666666666666,
             "#ed7953"
            ],
            [
             0.7777777777777778,
             "#fb9f3a"
            ],
            [
             0.8888888888888888,
             "#fdca26"
            ],
            [
             1,
             "#f0f921"
            ]
           ]
          },
          "colorway": [
           "#636efa",
           "#EF553B",
           "#00cc96",
           "#ab63fa",
           "#FFA15A",
           "#19d3f3",
           "#FF6692",
           "#B6E880",
           "#FF97FF",
           "#FECB52"
          ],
          "font": {
           "color": "#2a3f5f"
          },
          "geo": {
           "bgcolor": "white",
           "lakecolor": "white",
           "landcolor": "#E5ECF6",
           "showlakes": true,
           "showland": true,
           "subunitcolor": "white"
          },
          "hoverlabel": {
           "align": "left"
          },
          "hovermode": "closest",
          "mapbox": {
           "style": "light"
          },
          "paper_bgcolor": "white",
          "plot_bgcolor": "#E5ECF6",
          "polar": {
           "angularaxis": {
            "gridcolor": "white",
            "linecolor": "white",
            "ticks": ""
           },
           "bgcolor": "#E5ECF6",
           "radialaxis": {
            "gridcolor": "white",
            "linecolor": "white",
            "ticks": ""
           }
          },
          "scene": {
           "xaxis": {
            "backgroundcolor": "#E5ECF6",
            "gridcolor": "white",
            "gridwidth": 2,
            "linecolor": "white",
            "showbackground": true,
            "ticks": "",
            "zerolinecolor": "white"
           },
           "yaxis": {
            "backgroundcolor": "#E5ECF6",
            "gridcolor": "white",
            "gridwidth": 2,
            "linecolor": "white",
            "showbackground": true,
            "ticks": "",
            "zerolinecolor": "white"
           },
           "zaxis": {
            "backgroundcolor": "#E5ECF6",
            "gridcolor": "white",
            "gridwidth": 2,
            "linecolor": "white",
            "showbackground": true,
            "ticks": "",
            "zerolinecolor": "white"
           }
          },
          "shapedefaults": {
           "line": {
            "color": "#2a3f5f"
           }
          },
          "ternary": {
           "aaxis": {
            "gridcolor": "white",
            "linecolor": "white",
            "ticks": ""
           },
           "baxis": {
            "gridcolor": "white",
            "linecolor": "white",
            "ticks": ""
           },
           "bgcolor": "#E5ECF6",
           "caxis": {
            "gridcolor": "white",
            "linecolor": "white",
            "ticks": ""
           }
          },
          "title": {
           "x": 0.05
          },
          "xaxis": {
           "automargin": true,
           "gridcolor": "white",
           "linecolor": "white",
           "ticks": "",
           "title": {
            "standoff": 15
           },
           "zerolinecolor": "white",
           "zerolinewidth": 2
          },
          "yaxis": {
           "automargin": true,
           "gridcolor": "white",
           "linecolor": "white",
           "ticks": "",
           "title": {
            "standoff": 15
           },
           "zerolinecolor": "white",
           "zerolinewidth": 2
          }
         }
        },
        "title": {
         "text": "Maximal Prediction"
        },
        "width": 1200,
        "xaxis": {
         "anchor": "y",
         "domain": [
          0,
          0.45
         ],
         "title": {
          "text": "Month"
         }
        },
        "xaxis2": {
         "anchor": "y2",
         "domain": [
          0.55,
          1
         ],
         "title": {
          "text": "Month"
         }
        },
        "yaxis": {
         "anchor": "x",
         "domain": [
          0,
          1
         ],
         "range": [
          -0.01,
          0.09
         ],
         "title": {
          "text": "Supply Gain/Loss (maf/week)"
         }
        },
        "yaxis2": {
         "anchor": "x2",
         "domain": [
          0,
          1
         ],
         "range": [
          -0.01,
          0.09
         ],
         "title": {
          "text": "Supply Gain/Loss (maf/week)"
         }
        }
       }
      }
     },
     "metadata": {},
     "output_type": "display_data"
    },
    {
     "name": "stdout",
     "output_type": "stream",
     "text": [
      "Surface Water\n",
      "-4.2620052264412545\n",
      "0.3210008370742521\n",
      "0.8503761369913712\n",
      "\n",
      "Ground Water\n",
      "-3.242934721522987\n",
      "-0.4827105720071\n",
      "0.04071622242963999\n",
      "\n",
      "-7.504939947964242\n",
      "-0.1617097349328479\n",
      "0.8910923594210112\n"
     ]
    }
   ],
   "source": [
    "y1p = np.asarray([-0.3445839352867924, -0.3488406591924913, -0.35453009901895777, -0.35615328875119895, -0.35929868949319, -0.3607762326900431, -0.3617492931530171, -0.36188141962635645, -0.3623093856539154, -0.3580795649265237, -0.34834382004708175, -0.34545883860168636])\n",
    "y1 = np.asarray([0.03733323667283315, 0.03307651276713421, 0.027387072940667757, 0.025763883208426604, 0.022618482466435573, 0.021140939269582444, 0.0201678788066084, 0.02003575233326909, 0.019607786305710133, 0.023837607033101844, 0.03357335191254376, 0.03645833335793915])\n",
    "y1o = np.asarray([0.08144784499925974, 0.0771911210935608, 0.07150168126709434, 0.06987849153485319, 0.06673309079286216, 0.06525554759600903, 0.06428248713303499, 0.06415036065969568, 0.06372239463213672, 0.06795221535952843, 0.07768796023897034, 0.08057294168436574])\n",
    "\n",
    "y2p = np.asarray([-0.2741153126269156, -0.22981627262691573, -0.2741153126269156, -0.2741153126269156, -0.27196532262691564, -0.2741153126269156, -0.2741153126269156, -0.2741153126269156, -0.2741153126269156, -0.2741153126269156, -0.2741153126269156, -0.2741153126269156])\n",
    "y2 = np.asarray([-0.044096633500591675, 0.00020240649940839184, -0.044096633500591675, -0.044096633500591675, -0.04194664350059163, -0.044096633500591675, -0.044096633500591675, -0.044096633500591675, -0.044096633500591675, -0.044096633500591675, -0.044096633500591675, -0.044096633500591675])\n",
    "y2o = np.asarray([-0.00047773396419666884, 0.04382130603580334, -0.00047773396419666884, -0.00047773396419666884, 0.0016722560358033317, -0.00047773396419666884, -0.00047773396419666884, -0.00047773396419666884, -0.00047773396419666884, -0.00047773396419666884, -0.00047773396419666884, -0.00047773396419666884])\n",
    "\n",
    "\n",
    "\n",
    "# Highly Pessimistic\n",
    "months = [\"Jan\", \"Feb\", \"Mar\", \"Apr\", \"May\", \"Jun\", \"Jul\", \"Aug\", \"Sep\", \"Oct\", \"Nov\", \"Dec\"]\n",
    "fig = make_subplots(rows = 1, cols = 2,  subplot_titles=(\"Groundwater Gain\", \"Surface Water Gain\"))\n",
    "fig.add_trace(go.Scatter(x=months, y=y1p, mode = \"markers\", name = \"Groundwater\"), row = 1, col = 1)\n",
    "fig.add_trace(go.Scatter(x=months, y=y2p, mode = \"markers\", name = \"Surface water\"), row = 1, col = 2)\n",
    "\n",
    "fig.update_xaxes(title = \"Month\")\n",
    "\n",
    "fig.update_yaxes(title = \"Supply Gain/Loss (maf/week)\", range = [-0.38, -0.22])\n",
    "fig.update_layout(height=600, width=1200, title_text=\"Minimal Prediction\")\n",
    "\n",
    "fig.show()\n",
    "\n",
    "# Average\n",
    "fig = make_subplots(rows = 1, cols = 2,  subplot_titles=(\"Groundwater Gain\", \"Surface Water Gain\"))\n",
    "fig.add_trace(go.Scatter(x=months, y=y1, mode = \"markers\", name = \"Groundwater\"), row = 1, col = 1)\n",
    "fig.add_trace(go.Scatter(x=months, y=y2, mode = \"markers\", name = \"Surface water\"), row = 1, col = 2)\n",
    "\n",
    "fig.update_xaxes(title = \"Month\")\n",
    "#fig.update_layout(yaxis1 = dict(range=[0, 0.05], dtick = 0.01))\n",
    "fig.update_yaxes(title = \"Supply Gain/Loss (maf/week)\", range = [-0.05, 0.04])\n",
    "fig.update_layout(height=600, width=1200, title_text=\"Normal Prediction\")\n",
    "\n",
    "fig.show()\n",
    "\n",
    "# Highly Optimistic\n",
    "fig = make_subplots(rows = 1, cols = 2,  subplot_titles=(\"Groundwater Gain\", \"Surface Water Gain\"))\n",
    "fig.add_trace(go.Scatter(x=months, y=y1o, mode = \"markers\", name = \"Groundwater\"), row = 1, col = 1)\n",
    "fig.add_trace(go.Scatter(x=months, y=y2o, mode = \"markers\", name = \"Surface water\"), row = 1, col = 2)\n",
    "\n",
    "fig.update_xaxes(title = \"Month\")\n",
    "fig.update_yaxes(title = \"Supply Gain/Loss (maf/week)\", range = [-0.01, 0.09])\n",
    "\n",
    "fig.update_layout(height=600, width=1200, title_text=\"Maximal Prediction\")\n",
    "fig.show()\n",
    "\n",
    "print(\"Surface Water\")\n",
    "print(sum(y1p))\n",
    "print(sum(y1))\n",
    "print(sum(y1o))\n",
    "print()\n",
    "\n",
    "print(\"Ground Water\")\n",
    "print(sum(y2p))\n",
    "print(sum(y2))\n",
    "print(sum(y2o))\n",
    "print()\n",
    "\n",
    "print(sum(y1p)+ sum(y2p))\n",
    "print(sum(y1)+ sum(y2))\n",
    "print(sum(y1o)+ sum(y2o))"
   ]
  },
  {
   "cell_type": "code",
   "execution_count": 43,
   "metadata": {},
   "outputs": [
    {
     "data": {
      "application/vnd.plotly.v1+json": {
       "config": {
        "plotlyServerURL": "https://plot.ly"
       },
       "data": [
        {
         "marker": {
          "color": "blue"
         },
         "mode": "markers",
         "name": "Maximal",
         "type": "scatter",
         "x": [
          "Jan",
          "Feb",
          "Mar",
          "Apr",
          "May",
          "Jun",
          "Jul",
          "Aug",
          "Sep",
          "Oct",
          "Nov",
          "Dec"
         ],
         "xaxis": "x",
         "y": [
          0.08144784499925974,
          0.0771911210935608,
          0.07150168126709434,
          0.06987849153485319,
          0.06673309079286216,
          0.06525554759600903,
          0.06428248713303499,
          0.06415036065969568,
          0.06372239463213672,
          0.06795221535952843,
          0.07768796023897034,
          0.08057294168436574
         ],
         "yaxis": "y"
        },
        {
         "line": {
          "color": "blue",
          "dash": "dash"
         },
         "mode": "lines",
         "name": "Maximal Mean",
         "type": "scatter",
         "x": [
          "Jan",
          "Feb",
          "Mar",
          "Apr",
          "May",
          "Jun",
          "Jul",
          "Aug",
          "Sep",
          "Oct",
          "Nov",
          "Dec"
         ],
         "xaxis": "x",
         "y": [
          0.07086467808261426,
          0.07086467808261426,
          0.07086467808261426,
          0.07086467808261426,
          0.07086467808261426,
          0.07086467808261426,
          0.07086467808261426,
          0.07086467808261426,
          0.07086467808261426,
          0.07086467808261426,
          0.07086467808261426,
          0.07086467808261426
         ],
         "yaxis": "y"
        },
        {
         "marker": {
          "color": "green"
         },
         "mode": "markers",
         "name": "Expected",
         "type": "scatter",
         "x": [
          "Jan",
          "Feb",
          "Mar",
          "Apr",
          "May",
          "Jun",
          "Jul",
          "Aug",
          "Sep",
          "Oct",
          "Nov",
          "Dec"
         ],
         "xaxis": "x",
         "y": [
          0.03733323667283315,
          0.03307651276713421,
          0.027387072940667757,
          0.025763883208426604,
          0.022618482466435573,
          0.021140939269582444,
          0.0201678788066084,
          0.02003575233326909,
          0.019607786305710133,
          0.023837607033101844,
          0.03357335191254376,
          0.03645833335793915
         ],
         "yaxis": "y"
        },
        {
         "line": {
          "color": "green",
          "dash": "dash"
         },
         "mode": "lines",
         "name": "Expected Mean",
         "type": "scatter",
         "x": [
          "Jan",
          "Feb",
          "Mar",
          "Apr",
          "May",
          "Jun",
          "Jul",
          "Aug",
          "Sep",
          "Oct",
          "Nov",
          "Dec"
         ],
         "xaxis": "x",
         "y": [
          0.026750069756187673,
          0.026750069756187673,
          0.026750069756187673,
          0.026750069756187673,
          0.026750069756187673,
          0.026750069756187673,
          0.026750069756187673,
          0.026750069756187673,
          0.026750069756187673,
          0.026750069756187673,
          0.026750069756187673,
          0.026750069756187673
         ],
         "yaxis": "y"
        },
        {
         "marker": {
          "color": "red"
         },
         "mode": "markers",
         "name": "Minimal",
         "type": "scatter",
         "x": [
          "Jan",
          "Feb",
          "Mar",
          "Apr",
          "May",
          "Jun",
          "Jul",
          "Aug",
          "Sep",
          "Oct",
          "Nov",
          "Dec"
         ],
         "xaxis": "x",
         "y": [
          -0.3445839352867924,
          -0.3488406591924913,
          -0.35453009901895777,
          -0.35615328875119895,
          -0.35929868949319,
          -0.3607762326900431,
          -0.3617492931530171,
          -0.36188141962635645,
          -0.3623093856539154,
          -0.3580795649265237,
          -0.34834382004708175,
          -0.34545883860168636
         ],
         "yaxis": "y"
        },
        {
         "line": {
          "color": "red",
          "dash": "dash"
         },
         "mode": "lines",
         "name": "Minimal Mean",
         "type": "scatter",
         "x": [
          "Jan",
          "Feb",
          "Mar",
          "Apr",
          "May",
          "Jun",
          "Jul",
          "Aug",
          "Sep",
          "Oct",
          "Nov",
          "Dec"
         ],
         "xaxis": "x",
         "y": [
          -0.3551671022034378,
          -0.3551671022034378,
          -0.3551671022034378,
          -0.3551671022034378,
          -0.3551671022034378,
          -0.3551671022034378,
          -0.3551671022034378,
          -0.3551671022034378,
          -0.3551671022034378,
          -0.3551671022034378,
          -0.3551671022034378,
          -0.3551671022034378
         ],
         "yaxis": "y"
        },
        {
         "marker": {
          "color": "red"
         },
         "mode": "markers",
         "name": "Minimal Surface Water",
         "showlegend": false,
         "type": "scatter",
         "x": [
          "Jan",
          "Feb",
          "Mar",
          "Apr",
          "May",
          "Jun",
          "Jul",
          "Aug",
          "Sep",
          "Oct",
          "Nov",
          "Dec"
         ],
         "xaxis": "x2",
         "y": [
          -0.2741153126269156,
          -0.22981627262691573,
          -0.2741153126269156,
          -0.2741153126269156,
          -0.27196532262691564,
          -0.2741153126269156,
          -0.2741153126269156,
          -0.2741153126269156,
          -0.2741153126269156,
          -0.2741153126269156,
          -0.2741153126269156,
          -0.2741153126269156
         ],
         "yaxis": "y2"
        },
        {
         "line": {
          "color": "red",
          "dash": "dash"
         },
         "mode": "lines",
         "name": "Minimal Surface Water Mean",
         "showlegend": false,
         "type": "scatter",
         "x": [
          "Jan",
          "Feb",
          "Mar",
          "Apr",
          "May",
          "Jun",
          "Jul",
          "Aug",
          "Sep",
          "Oct",
          "Nov",
          "Dec"
         ],
         "xaxis": "x2",
         "y": [
          -0.2702445601269156,
          -0.2702445601269156,
          -0.2702445601269156,
          -0.2702445601269156,
          -0.2702445601269156,
          -0.2702445601269156,
          -0.2702445601269156,
          -0.2702445601269156,
          -0.2702445601269156,
          -0.2702445601269156,
          -0.2702445601269156,
          -0.2702445601269156
         ],
         "yaxis": "y2"
        },
        {
         "marker": {
          "color": "green"
         },
         "mode": "markers",
         "name": "Expected Surface Water",
         "showlegend": false,
         "type": "scatter",
         "x": [
          "Jan",
          "Feb",
          "Mar",
          "Apr",
          "May",
          "Jun",
          "Jul",
          "Aug",
          "Sep",
          "Oct",
          "Nov",
          "Dec"
         ],
         "xaxis": "x2",
         "y": [
          -0.044096633500591675,
          0.00020240649940839184,
          -0.044096633500591675,
          -0.044096633500591675,
          -0.04194664350059163,
          -0.044096633500591675,
          -0.044096633500591675,
          -0.044096633500591675,
          -0.044096633500591675,
          -0.044096633500591675,
          -0.044096633500591675,
          -0.044096633500591675
         ],
         "yaxis": "y2"
        },
        {
         "line": {
          "color": "green",
          "dash": "dash"
         },
         "mode": "lines",
         "name": "Expected Surface Water Mean",
         "showlegend": false,
         "type": "scatter",
         "x": [
          "Jan",
          "Feb",
          "Mar",
          "Apr",
          "May",
          "Jun",
          "Jul",
          "Aug",
          "Sep",
          "Oct",
          "Nov",
          "Dec"
         ],
         "xaxis": "x2",
         "y": [
          -0.040225881000591664,
          -0.040225881000591664,
          -0.040225881000591664,
          -0.040225881000591664,
          -0.040225881000591664,
          -0.040225881000591664,
          -0.040225881000591664,
          -0.040225881000591664,
          -0.040225881000591664,
          -0.040225881000591664,
          -0.040225881000591664,
          -0.040225881000591664
         ],
         "yaxis": "y2"
        },
        {
         "marker": {
          "color": "blue"
         },
         "mode": "markers",
         "name": "Maximal Surface water",
         "showlegend": false,
         "type": "scatter",
         "x": [
          "Jan",
          "Feb",
          "Mar",
          "Apr",
          "May",
          "Jun",
          "Jul",
          "Aug",
          "Sep",
          "Oct",
          "Nov",
          "Dec"
         ],
         "xaxis": "x2",
         "y": [
          -0.00047773396419666884,
          0.04382130603580334,
          -0.00047773396419666884,
          -0.00047773396419666884,
          0.0016722560358033317,
          -0.00047773396419666884,
          -0.00047773396419666884,
          -0.00047773396419666884,
          -0.00047773396419666884,
          -0.00047773396419666884,
          -0.00047773396419666884,
          -0.00047773396419666884
         ],
         "yaxis": "y2"
        },
        {
         "line": {
          "color": "blue",
          "dash": "dash"
         },
         "mode": "lines",
         "name": "Maximal Surface Water Mean",
         "showlegend": false,
         "type": "scatter",
         "x": [
          "Jan",
          "Feb",
          "Mar",
          "Apr",
          "May",
          "Jun",
          "Jul",
          "Aug",
          "Sep",
          "Oct",
          "Nov",
          "Dec"
         ],
         "xaxis": "x2",
         "y": [
          0.003393018535803332,
          0.003393018535803332,
          0.003393018535803332,
          0.003393018535803332,
          0.003393018535803332,
          0.003393018535803332,
          0.003393018535803332,
          0.003393018535803332,
          0.003393018535803332,
          0.003393018535803332,
          0.003393018535803332,
          0.003393018535803332
         ],
         "yaxis": "y2"
        }
       ],
       "layout": {
        "annotations": [
         {
          "font": {
           "size": 16
          },
          "showarrow": false,
          "text": "Groundwater Gain",
          "x": 0.225,
          "xanchor": "center",
          "xref": "paper",
          "y": 1,
          "yanchor": "bottom",
          "yref": "paper"
         },
         {
          "font": {
           "size": 16
          },
          "showarrow": false,
          "text": "Surface Water Gain",
          "x": 0.775,
          "xanchor": "center",
          "xref": "paper",
          "y": 1,
          "yanchor": "bottom",
          "yref": "paper"
         }
        ],
        "height": 600,
        "template": {
         "data": {
          "bar": [
           {
            "error_x": {
             "color": "#2a3f5f"
            },
            "error_y": {
             "color": "#2a3f5f"
            },
            "marker": {
             "line": {
              "color": "#E5ECF6",
              "width": 0.5
             },
             "pattern": {
              "fillmode": "overlay",
              "size": 10,
              "solidity": 0.2
             }
            },
            "type": "bar"
           }
          ],
          "barpolar": [
           {
            "marker": {
             "line": {
              "color": "#E5ECF6",
              "width": 0.5
             },
             "pattern": {
              "fillmode": "overlay",
              "size": 10,
              "solidity": 0.2
             }
            },
            "type": "barpolar"
           }
          ],
          "carpet": [
           {
            "aaxis": {
             "endlinecolor": "#2a3f5f",
             "gridcolor": "white",
             "linecolor": "white",
             "minorgridcolor": "white",
             "startlinecolor": "#2a3f5f"
            },
            "baxis": {
             "endlinecolor": "#2a3f5f",
             "gridcolor": "white",
             "linecolor": "white",
             "minorgridcolor": "white",
             "startlinecolor": "#2a3f5f"
            },
            "type": "carpet"
           }
          ],
          "choropleth": [
           {
            "colorbar": {
             "outlinewidth": 0,
             "ticks": ""
            },
            "type": "choropleth"
           }
          ],
          "contour": [
           {
            "colorbar": {
             "outlinewidth": 0,
             "ticks": ""
            },
            "colorscale": [
             [
              0,
              "#0d0887"
             ],
             [
              0.1111111111111111,
              "#46039f"
             ],
             [
              0.2222222222222222,
              "#7201a8"
             ],
             [
              0.3333333333333333,
              "#9c179e"
             ],
             [
              0.4444444444444444,
              "#bd3786"
             ],
             [
              0.5555555555555556,
              "#d8576b"
             ],
             [
              0.6666666666666666,
              "#ed7953"
             ],
             [
              0.7777777777777778,
              "#fb9f3a"
             ],
             [
              0.8888888888888888,
              "#fdca26"
             ],
             [
              1,
              "#f0f921"
             ]
            ],
            "type": "contour"
           }
          ],
          "contourcarpet": [
           {
            "colorbar": {
             "outlinewidth": 0,
             "ticks": ""
            },
            "type": "contourcarpet"
           }
          ],
          "heatmap": [
           {
            "colorbar": {
             "outlinewidth": 0,
             "ticks": ""
            },
            "colorscale": [
             [
              0,
              "#0d0887"
             ],
             [
              0.1111111111111111,
              "#46039f"
             ],
             [
              0.2222222222222222,
              "#7201a8"
             ],
             [
              0.3333333333333333,
              "#9c179e"
             ],
             [
              0.4444444444444444,
              "#bd3786"
             ],
             [
              0.5555555555555556,
              "#d8576b"
             ],
             [
              0.6666666666666666,
              "#ed7953"
             ],
             [
              0.7777777777777778,
              "#fb9f3a"
             ],
             [
              0.8888888888888888,
              "#fdca26"
             ],
             [
              1,
              "#f0f921"
             ]
            ],
            "type": "heatmap"
           }
          ],
          "heatmapgl": [
           {
            "colorbar": {
             "outlinewidth": 0,
             "ticks": ""
            },
            "colorscale": [
             [
              0,
              "#0d0887"
             ],
             [
              0.1111111111111111,
              "#46039f"
             ],
             [
              0.2222222222222222,
              "#7201a8"
             ],
             [
              0.3333333333333333,
              "#9c179e"
             ],
             [
              0.4444444444444444,
              "#bd3786"
             ],
             [
              0.5555555555555556,
              "#d8576b"
             ],
             [
              0.6666666666666666,
              "#ed7953"
             ],
             [
              0.7777777777777778,
              "#fb9f3a"
             ],
             [
              0.8888888888888888,
              "#fdca26"
             ],
             [
              1,
              "#f0f921"
             ]
            ],
            "type": "heatmapgl"
           }
          ],
          "histogram": [
           {
            "marker": {
             "pattern": {
              "fillmode": "overlay",
              "size": 10,
              "solidity": 0.2
             }
            },
            "type": "histogram"
           }
          ],
          "histogram2d": [
           {
            "colorbar": {
             "outlinewidth": 0,
             "ticks": ""
            },
            "colorscale": [
             [
              0,
              "#0d0887"
             ],
             [
              0.1111111111111111,
              "#46039f"
             ],
             [
              0.2222222222222222,
              "#7201a8"
             ],
             [
              0.3333333333333333,
              "#9c179e"
             ],
             [
              0.4444444444444444,
              "#bd3786"
             ],
             [
              0.5555555555555556,
              "#d8576b"
             ],
             [
              0.6666666666666666,
              "#ed7953"
             ],
             [
              0.7777777777777778,
              "#fb9f3a"
             ],
             [
              0.8888888888888888,
              "#fdca26"
             ],
             [
              1,
              "#f0f921"
             ]
            ],
            "type": "histogram2d"
           }
          ],
          "histogram2dcontour": [
           {
            "colorbar": {
             "outlinewidth": 0,
             "ticks": ""
            },
            "colorscale": [
             [
              0,
              "#0d0887"
             ],
             [
              0.1111111111111111,
              "#46039f"
             ],
             [
              0.2222222222222222,
              "#7201a8"
             ],
             [
              0.3333333333333333,
              "#9c179e"
             ],
             [
              0.4444444444444444,
              "#bd3786"
             ],
             [
              0.5555555555555556,
              "#d8576b"
             ],
             [
              0.6666666666666666,
              "#ed7953"
             ],
             [
              0.7777777777777778,
              "#fb9f3a"
             ],
             [
              0.8888888888888888,
              "#fdca26"
             ],
             [
              1,
              "#f0f921"
             ]
            ],
            "type": "histogram2dcontour"
           }
          ],
          "mesh3d": [
           {
            "colorbar": {
             "outlinewidth": 0,
             "ticks": ""
            },
            "type": "mesh3d"
           }
          ],
          "parcoords": [
           {
            "line": {
             "colorbar": {
              "outlinewidth": 0,
              "ticks": ""
             }
            },
            "type": "parcoords"
           }
          ],
          "pie": [
           {
            "automargin": true,
            "type": "pie"
           }
          ],
          "scatter": [
           {
            "fillpattern": {
             "fillmode": "overlay",
             "size": 10,
             "solidity": 0.2
            },
            "type": "scatter"
           }
          ],
          "scatter3d": [
           {
            "line": {
             "colorbar": {
              "outlinewidth": 0,
              "ticks": ""
             }
            },
            "marker": {
             "colorbar": {
              "outlinewidth": 0,
              "ticks": ""
             }
            },
            "type": "scatter3d"
           }
          ],
          "scattercarpet": [
           {
            "marker": {
             "colorbar": {
              "outlinewidth": 0,
              "ticks": ""
             }
            },
            "type": "scattercarpet"
           }
          ],
          "scattergeo": [
           {
            "marker": {
             "colorbar": {
              "outlinewidth": 0,
              "ticks": ""
             }
            },
            "type": "scattergeo"
           }
          ],
          "scattergl": [
           {
            "marker": {
             "colorbar": {
              "outlinewidth": 0,
              "ticks": ""
             }
            },
            "type": "scattergl"
           }
          ],
          "scattermapbox": [
           {
            "marker": {
             "colorbar": {
              "outlinewidth": 0,
              "ticks": ""
             }
            },
            "type": "scattermapbox"
           }
          ],
          "scatterpolar": [
           {
            "marker": {
             "colorbar": {
              "outlinewidth": 0,
              "ticks": ""
             }
            },
            "type": "scatterpolar"
           }
          ],
          "scatterpolargl": [
           {
            "marker": {
             "colorbar": {
              "outlinewidth": 0,
              "ticks": ""
             }
            },
            "type": "scatterpolargl"
           }
          ],
          "scatterternary": [
           {
            "marker": {
             "colorbar": {
              "outlinewidth": 0,
              "ticks": ""
             }
            },
            "type": "scatterternary"
           }
          ],
          "surface": [
           {
            "colorbar": {
             "outlinewidth": 0,
             "ticks": ""
            },
            "colorscale": [
             [
              0,
              "#0d0887"
             ],
             [
              0.1111111111111111,
              "#46039f"
             ],
             [
              0.2222222222222222,
              "#7201a8"
             ],
             [
              0.3333333333333333,
              "#9c179e"
             ],
             [
              0.4444444444444444,
              "#bd3786"
             ],
             [
              0.5555555555555556,
              "#d8576b"
             ],
             [
              0.6666666666666666,
              "#ed7953"
             ],
             [
              0.7777777777777778,
              "#fb9f3a"
             ],
             [
              0.8888888888888888,
              "#fdca26"
             ],
             [
              1,
              "#f0f921"
             ]
            ],
            "type": "surface"
           }
          ],
          "table": [
           {
            "cells": {
             "fill": {
              "color": "#EBF0F8"
             },
             "line": {
              "color": "white"
             }
            },
            "header": {
             "fill": {
              "color": "#C8D4E3"
             },
             "line": {
              "color": "white"
             }
            },
            "type": "table"
           }
          ]
         },
         "layout": {
          "annotationdefaults": {
           "arrowcolor": "#2a3f5f",
           "arrowhead": 0,
           "arrowwidth": 1
          },
          "autotypenumbers": "strict",
          "coloraxis": {
           "colorbar": {
            "outlinewidth": 0,
            "ticks": ""
           }
          },
          "colorscale": {
           "diverging": [
            [
             0,
             "#8e0152"
            ],
            [
             0.1,
             "#c51b7d"
            ],
            [
             0.2,
             "#de77ae"
            ],
            [
             0.3,
             "#f1b6da"
            ],
            [
             0.4,
             "#fde0ef"
            ],
            [
             0.5,
             "#f7f7f7"
            ],
            [
             0.6,
             "#e6f5d0"
            ],
            [
             0.7,
             "#b8e186"
            ],
            [
             0.8,
             "#7fbc41"
            ],
            [
             0.9,
             "#4d9221"
            ],
            [
             1,
             "#276419"
            ]
           ],
           "sequential": [
            [
             0,
             "#0d0887"
            ],
            [
             0.1111111111111111,
             "#46039f"
            ],
            [
             0.2222222222222222,
             "#7201a8"
            ],
            [
             0.3333333333333333,
             "#9c179e"
            ],
            [
             0.4444444444444444,
             "#bd3786"
            ],
            [
             0.5555555555555556,
             "#d8576b"
            ],
            [
             0.6666666666666666,
             "#ed7953"
            ],
            [
             0.7777777777777778,
             "#fb9f3a"
            ],
            [
             0.8888888888888888,
             "#fdca26"
            ],
            [
             1,
             "#f0f921"
            ]
           ],
           "sequentialminus": [
            [
             0,
             "#0d0887"
            ],
            [
             0.1111111111111111,
             "#46039f"
            ],
            [
             0.2222222222222222,
             "#7201a8"
            ],
            [
             0.3333333333333333,
             "#9c179e"
            ],
            [
             0.4444444444444444,
             "#bd3786"
            ],
            [
             0.5555555555555556,
             "#d8576b"
            ],
            [
             0.6666666666666666,
             "#ed7953"
            ],
            [
             0.7777777777777778,
             "#fb9f3a"
            ],
            [
             0.8888888888888888,
             "#fdca26"
            ],
            [
             1,
             "#f0f921"
            ]
           ]
          },
          "colorway": [
           "#636efa",
           "#EF553B",
           "#00cc96",
           "#ab63fa",
           "#FFA15A",
           "#19d3f3",
           "#FF6692",
           "#B6E880",
           "#FF97FF",
           "#FECB52"
          ],
          "font": {
           "color": "#2a3f5f"
          },
          "geo": {
           "bgcolor": "white",
           "lakecolor": "white",
           "landcolor": "#E5ECF6",
           "showlakes": true,
           "showland": true,
           "subunitcolor": "white"
          },
          "hoverlabel": {
           "align": "left"
          },
          "hovermode": "closest",
          "mapbox": {
           "style": "light"
          },
          "paper_bgcolor": "white",
          "plot_bgcolor": "#E5ECF6",
          "polar": {
           "angularaxis": {
            "gridcolor": "white",
            "linecolor": "white",
            "ticks": ""
           },
           "bgcolor": "#E5ECF6",
           "radialaxis": {
            "gridcolor": "white",
            "linecolor": "white",
            "ticks": ""
           }
          },
          "scene": {
           "xaxis": {
            "backgroundcolor": "#E5ECF6",
            "gridcolor": "white",
            "gridwidth": 2,
            "linecolor": "white",
            "showbackground": true,
            "ticks": "",
            "zerolinecolor": "white"
           },
           "yaxis": {
            "backgroundcolor": "#E5ECF6",
            "gridcolor": "white",
            "gridwidth": 2,
            "linecolor": "white",
            "showbackground": true,
            "ticks": "",
            "zerolinecolor": "white"
           },
           "zaxis": {
            "backgroundcolor": "#E5ECF6",
            "gridcolor": "white",
            "gridwidth": 2,
            "linecolor": "white",
            "showbackground": true,
            "ticks": "",
            "zerolinecolor": "white"
           }
          },
          "shapedefaults": {
           "line": {
            "color": "#2a3f5f"
           }
          },
          "ternary": {
           "aaxis": {
            "gridcolor": "white",
            "linecolor": "white",
            "ticks": ""
           },
           "baxis": {
            "gridcolor": "white",
            "linecolor": "white",
            "ticks": ""
           },
           "bgcolor": "#E5ECF6",
           "caxis": {
            "gridcolor": "white",
            "linecolor": "white",
            "ticks": ""
           }
          },
          "title": {
           "x": 0.05
          },
          "xaxis": {
           "automargin": true,
           "gridcolor": "white",
           "linecolor": "white",
           "ticks": "",
           "title": {
            "standoff": 15
           },
           "zerolinecolor": "white",
           "zerolinewidth": 2
          },
          "yaxis": {
           "automargin": true,
           "gridcolor": "white",
           "linecolor": "white",
           "ticks": "",
           "title": {
            "standoff": 15
           },
           "zerolinecolor": "white",
           "zerolinewidth": 2
          }
         }
        },
        "title": {
         "text": "All Predicted Water Storage Changes"
        },
        "width": 1200,
        "xaxis": {
         "anchor": "y",
         "domain": [
          0,
          0.45
         ],
         "title": {
          "text": "Month"
         }
        },
        "xaxis2": {
         "anchor": "y2",
         "domain": [
          0.55,
          1
         ],
         "title": {
          "text": "Month"
         }
        },
        "yaxis": {
         "anchor": "x",
         "domain": [
          0,
          1
         ],
         "range": [
          -0.4,
          0.09
         ],
         "title": {
          "text": "Supply Gain/Loss (maf/week)"
         }
        },
        "yaxis2": {
         "anchor": "x2",
         "domain": [
          0,
          1
         ],
         "range": [
          -0.4,
          0.09
         ],
         "title": {
          "text": "Supply Gain/Loss (maf/week)"
         }
        }
       }
      }
     },
     "metadata": {},
     "output_type": "display_data"
    },
    {
     "data": {
      "text/plain": [
       "'# Average\\nfig = make_subplots(rows = 1, cols = 2,  subplot_titles=(\"Groundwater Gain\", \"Surface Water Gain\"))\\n\\nfig.update_xaxes(title = \"Month\")\\n#fig.update_layout(yaxis1 = dict(range=[0, 0.05], dtick = 0.01))\\nfig.update_yaxes(title = \"Supply Gain/Loss (maf/week)\", range = [-0.05, 0.04])\\nfig.update_layout(height=600, width=1200, title_text=\"Normal Prediction\")\\n\\nfig.show()\\n\\n# Highly Optimistic\\nfig = make_subplots(rows = 1, cols = 2,  subplot_titles=(\"Groundwater Gain\", \"Surface Water Gain\"))\\n\\nfig.update_xaxes(title = \"Month\")\\nfig.update_yaxes(title = \"Supply Gain/Loss (maf/week)\", range = [-0.01, 0.09])\\n\\nfig.update_layout(height=600, width=1200, title_text=\"Maximal Prediction\")\\nfig.show()\\n'"
      ]
     },
     "execution_count": 43,
     "metadata": {},
     "output_type": "execute_result"
    }
   ],
   "source": [
    "y1p = np.asarray([-0.3445839352867924, -0.3488406591924913, -0.35453009901895777, -0.35615328875119895, -0.35929868949319, -0.3607762326900431, -0.3617492931530171, -0.36188141962635645, -0.3623093856539154, -0.3580795649265237, -0.34834382004708175, -0.34545883860168636])\n",
    "y1 = np.asarray([0.03733323667283315, 0.03307651276713421, 0.027387072940667757, 0.025763883208426604, 0.022618482466435573, 0.021140939269582444, 0.0201678788066084, 0.02003575233326909, 0.019607786305710133, 0.023837607033101844, 0.03357335191254376, 0.03645833335793915])\n",
    "y1o = np.asarray([0.08144784499925974, 0.0771911210935608, 0.07150168126709434, 0.06987849153485319, 0.06673309079286216, 0.06525554759600903, 0.06428248713303499, 0.06415036065969568, 0.06372239463213672, 0.06795221535952843, 0.07768796023897034, 0.08057294168436574])\n",
    "\n",
    "y2p = np.asarray([-0.2741153126269156, -0.22981627262691573, -0.2741153126269156, -0.2741153126269156, -0.27196532262691564, -0.2741153126269156, -0.2741153126269156, -0.2741153126269156, -0.2741153126269156, -0.2741153126269156, -0.2741153126269156, -0.2741153126269156])\n",
    "y2 = np.asarray([-0.044096633500591675, 0.00020240649940839184, -0.044096633500591675, -0.044096633500591675, -0.04194664350059163, -0.044096633500591675, -0.044096633500591675, -0.044096633500591675, -0.044096633500591675, -0.044096633500591675, -0.044096633500591675, -0.044096633500591675])\n",
    "y2o = np.asarray([-0.00047773396419666884, 0.04382130603580334, -0.00047773396419666884, -0.00047773396419666884, 0.0016722560358033317, -0.00047773396419666884, -0.00047773396419666884, -0.00047773396419666884, -0.00047773396419666884, -0.00047773396419666884, -0.00047773396419666884, -0.00047773396419666884])\n",
    "\n",
    "\n",
    "\n",
    "# Highly Pessimistic\n",
    "months = [\"Jan\", \"Feb\", \"Mar\", \"Apr\", \"May\", \"Jun\", \"Jul\", \"Aug\", \"Sep\", \"Oct\", \"Nov\", \"Dec\"]\n",
    "fig = make_subplots(rows = 1, cols = 2,  subplot_titles=(\"Groundwater Gain\", \"Surface Water Gain\"))\n",
    "\n",
    "fig.add_trace(go.Scatter(x=months, y=y1o, mode = \"markers\", name = \"Maximal\", marker = dict(color = \"blue\")), row = 1, col = 1)\n",
    "fig.add_trace(go.Scatter(x=months, y=[np.mean(y1o)] * len(months), mode = \"lines\", name = \"Maximal Mean\", line = dict(color = \"blue\", dash='dash')), row = 1, col = 1)\n",
    "\n",
    "fig.add_trace(go.Scatter(x=months, y=y1, mode = \"markers\", name = \"Expected\", marker = dict(color = \"green\")), row = 1, col = 1)\n",
    "fig.add_trace(go.Scatter(x=months, y=[np.mean(y1)] * len(months), mode = \"lines\", name = \"Expected Mean\", line = dict(color = \"green\", dash='dash')), row = 1, col = 1)\n",
    "\n",
    "fig.add_trace(go.Scatter(x=months, y=y1p, mode = \"markers\", name = \"Minimal\", marker = dict(color = \"red\")), row = 1, col = 1)\n",
    "fig.add_trace(go.Scatter(x=months, y=[np.mean(y1p)] * len(months), mode = \"lines\", name = \"Minimal Mean\", line = dict(color = \"red\", dash='dash')), row = 1, col = 1)\n",
    "\n",
    "fig.add_trace(go.Scatter(x=months, y=y2p, mode = \"markers\", name = \"Minimal Surface Water\", marker = dict(color = \"red\"), showlegend=False), row = 1, col = 2)\n",
    "fig.add_trace(go.Scatter(x=months, y=[np.mean(y2p)] * len(months), mode = \"lines\", name = \"Minimal Surface Water Mean\", line = dict(color = \"red\", dash='dash'), showlegend=False), row = 1, col = 2)\n",
    "\n",
    "fig.add_trace(go.Scatter(x=months, y=y2, mode = \"markers\", name = \"Expected Surface Water\", marker = dict(color = \"green\"), showlegend=False), row = 1, col = 2)\n",
    "fig.add_trace(go.Scatter(x=months, y=[np.mean(y2)] * len(months), mode = \"lines\", name = \"Expected Surface Water Mean\", line = dict(color = \"green\", dash='dash'), showlegend=False), row = 1, col = 2)\n",
    "\n",
    "fig.add_trace(go.Scatter(x=months, y=y2o, mode = \"markers\", name = \"Maximal Surface water\", marker = dict(color = \"blue\"), showlegend=False), row = 1, col = 2)\n",
    "fig.add_trace(go.Scatter(x=months, y=[np.mean(y2o)] * len(months), mode = \"lines\", name = \"Maximal Surface Water Mean\", line = dict(color = \"blue\", dash='dash'), showlegend=False), row = 1, col = 2)\n",
    "\n",
    "fig.update_xaxes(title = \"Month\")\n",
    "\n",
    "fig.update_yaxes(title = \"Supply Gain/Loss (maf/week)\", range = [-0.4, 0.09])\n",
    "fig.update_layout(height=600, width=1200, title_text=\"All Predicted Water Storage Changes\")\n",
    "\n",
    "fig.show()\n",
    "\n",
    "\"\"\"# Average\n",
    "fig = make_subplots(rows = 1, cols = 2,  subplot_titles=(\"Groundwater Gain\", \"Surface Water Gain\"))\n",
    "\n",
    "fig.update_xaxes(title = \"Month\")\n",
    "#fig.update_layout(yaxis1 = dict(range=[0, 0.05], dtick = 0.01))\n",
    "fig.update_yaxes(title = \"Supply Gain/Loss (maf/week)\", range = [-0.05, 0.04])\n",
    "fig.update_layout(height=600, width=1200, title_text=\"Normal Prediction\")\n",
    "\n",
    "fig.show()\n",
    "\n",
    "# Highly Optimistic\n",
    "fig = make_subplots(rows = 1, cols = 2,  subplot_titles=(\"Groundwater Gain\", \"Surface Water Gain\"))\n",
    "\n",
    "fig.update_xaxes(title = \"Month\")\n",
    "fig.update_yaxes(title = \"Supply Gain/Loss (maf/week)\", range = [-0.01, 0.09])\n",
    "\n",
    "fig.update_layout(height=600, width=1200, title_text=\"Maximal Prediction\")\n",
    "fig.show()\n",
    "\"\"\"\n"
   ]
  },
  {
   "cell_type": "code",
   "execution_count": 45,
   "metadata": {},
   "outputs": [
    {
     "data": {
      "text/html": [
       "<div>\n",
       "<style scoped>\n",
       "    .dataframe tbody tr th:only-of-type {\n",
       "        vertical-align: middle;\n",
       "    }\n",
       "\n",
       "    .dataframe tbody tr th {\n",
       "        vertical-align: top;\n",
       "    }\n",
       "\n",
       "    .dataframe thead th {\n",
       "        text-align: right;\n",
       "    }\n",
       "</style>\n",
       "<table border=\"1\" class=\"dataframe\">\n",
       "  <thead>\n",
       "    <tr style=\"text-align: right;\">\n",
       "      <th></th>\n",
       "      <th>Month</th>\n",
       "      <th>Minimal Groundwater Gain</th>\n",
       "      <th>Minimal Surface Water Gain</th>\n",
       "    </tr>\n",
       "  </thead>\n",
       "  <tbody>\n",
       "    <tr>\n",
       "      <th>0</th>\n",
       "      <td>Jan</td>\n",
       "      <td>-0.344584</td>\n",
       "      <td>-0.274115</td>\n",
       "    </tr>\n",
       "    <tr>\n",
       "      <th>1</th>\n",
       "      <td>Feb</td>\n",
       "      <td>-0.348841</td>\n",
       "      <td>-0.229816</td>\n",
       "    </tr>\n",
       "    <tr>\n",
       "      <th>2</th>\n",
       "      <td>Mar</td>\n",
       "      <td>-0.354530</td>\n",
       "      <td>-0.274115</td>\n",
       "    </tr>\n",
       "    <tr>\n",
       "      <th>3</th>\n",
       "      <td>Apr</td>\n",
       "      <td>-0.356153</td>\n",
       "      <td>-0.274115</td>\n",
       "    </tr>\n",
       "    <tr>\n",
       "      <th>4</th>\n",
       "      <td>May</td>\n",
       "      <td>-0.359299</td>\n",
       "      <td>-0.271965</td>\n",
       "    </tr>\n",
       "    <tr>\n",
       "      <th>5</th>\n",
       "      <td>Jun</td>\n",
       "      <td>-0.360776</td>\n",
       "      <td>-0.274115</td>\n",
       "    </tr>\n",
       "    <tr>\n",
       "      <th>6</th>\n",
       "      <td>Jul</td>\n",
       "      <td>-0.361749</td>\n",
       "      <td>-0.274115</td>\n",
       "    </tr>\n",
       "    <tr>\n",
       "      <th>7</th>\n",
       "      <td>Aug</td>\n",
       "      <td>-0.361881</td>\n",
       "      <td>-0.274115</td>\n",
       "    </tr>\n",
       "    <tr>\n",
       "      <th>8</th>\n",
       "      <td>Sep</td>\n",
       "      <td>-0.362309</td>\n",
       "      <td>-0.274115</td>\n",
       "    </tr>\n",
       "    <tr>\n",
       "      <th>9</th>\n",
       "      <td>Oct</td>\n",
       "      <td>-0.358080</td>\n",
       "      <td>-0.274115</td>\n",
       "    </tr>\n",
       "    <tr>\n",
       "      <th>10</th>\n",
       "      <td>Nov</td>\n",
       "      <td>-0.348344</td>\n",
       "      <td>-0.274115</td>\n",
       "    </tr>\n",
       "    <tr>\n",
       "      <th>11</th>\n",
       "      <td>Dec</td>\n",
       "      <td>-0.345459</td>\n",
       "      <td>-0.274115</td>\n",
       "    </tr>\n",
       "  </tbody>\n",
       "</table>\n",
       "</div>"
      ],
      "text/plain": [
       "   Month  Minimal Groundwater Gain  Minimal Surface Water Gain\n",
       "0    Jan                 -0.344584                   -0.274115\n",
       "1    Feb                 -0.348841                   -0.229816\n",
       "2    Mar                 -0.354530                   -0.274115\n",
       "3    Apr                 -0.356153                   -0.274115\n",
       "4    May                 -0.359299                   -0.271965\n",
       "5    Jun                 -0.360776                   -0.274115\n",
       "6    Jul                 -0.361749                   -0.274115\n",
       "7    Aug                 -0.361881                   -0.274115\n",
       "8    Sep                 -0.362309                   -0.274115\n",
       "9    Oct                 -0.358080                   -0.274115\n",
       "10   Nov                 -0.348344                   -0.274115\n",
       "11   Dec                 -0.345459                   -0.274115"
      ]
     },
     "execution_count": 45,
     "metadata": {},
     "output_type": "execute_result"
    }
   ],
   "source": [
    "df1 = pd.DataFrame(columns = [\"Month\", \"Minimal Groundwater Gain\", \"Minimal Surface Water Gain\"])\n",
    "df1[\"Month\"] = months\n",
    "df1[\"Minimal Groundwater Gain\"] = y1p\n",
    "df1[\"Minimal Surface Water Gain\"] = y2p\n",
    "\n",
    "df1"
   ]
  },
  {
   "cell_type": "code",
   "execution_count": 46,
   "metadata": {},
   "outputs": [
    {
     "data": {
      "text/html": [
       "<div>\n",
       "<style scoped>\n",
       "    .dataframe tbody tr th:only-of-type {\n",
       "        vertical-align: middle;\n",
       "    }\n",
       "\n",
       "    .dataframe tbody tr th {\n",
       "        vertical-align: top;\n",
       "    }\n",
       "\n",
       "    .dataframe thead th {\n",
       "        text-align: right;\n",
       "    }\n",
       "</style>\n",
       "<table border=\"1\" class=\"dataframe\">\n",
       "  <thead>\n",
       "    <tr style=\"text-align: right;\">\n",
       "      <th></th>\n",
       "      <th>Month</th>\n",
       "      <th>Expected Groundwater Gain</th>\n",
       "      <th>Expected Surface Water Gain</th>\n",
       "    </tr>\n",
       "  </thead>\n",
       "  <tbody>\n",
       "    <tr>\n",
       "      <th>0</th>\n",
       "      <td>Jan</td>\n",
       "      <td>0.037333</td>\n",
       "      <td>-0.044097</td>\n",
       "    </tr>\n",
       "    <tr>\n",
       "      <th>1</th>\n",
       "      <td>Feb</td>\n",
       "      <td>0.033077</td>\n",
       "      <td>0.000202</td>\n",
       "    </tr>\n",
       "    <tr>\n",
       "      <th>2</th>\n",
       "      <td>Mar</td>\n",
       "      <td>0.027387</td>\n",
       "      <td>-0.044097</td>\n",
       "    </tr>\n",
       "    <tr>\n",
       "      <th>3</th>\n",
       "      <td>Apr</td>\n",
       "      <td>0.025764</td>\n",
       "      <td>-0.044097</td>\n",
       "    </tr>\n",
       "    <tr>\n",
       "      <th>4</th>\n",
       "      <td>May</td>\n",
       "      <td>0.022618</td>\n",
       "      <td>-0.041947</td>\n",
       "    </tr>\n",
       "    <tr>\n",
       "      <th>5</th>\n",
       "      <td>Jun</td>\n",
       "      <td>0.021141</td>\n",
       "      <td>-0.044097</td>\n",
       "    </tr>\n",
       "    <tr>\n",
       "      <th>6</th>\n",
       "      <td>Jul</td>\n",
       "      <td>0.020168</td>\n",
       "      <td>-0.044097</td>\n",
       "    </tr>\n",
       "    <tr>\n",
       "      <th>7</th>\n",
       "      <td>Aug</td>\n",
       "      <td>0.020036</td>\n",
       "      <td>-0.044097</td>\n",
       "    </tr>\n",
       "    <tr>\n",
       "      <th>8</th>\n",
       "      <td>Sep</td>\n",
       "      <td>0.019608</td>\n",
       "      <td>-0.044097</td>\n",
       "    </tr>\n",
       "    <tr>\n",
       "      <th>9</th>\n",
       "      <td>Oct</td>\n",
       "      <td>0.023838</td>\n",
       "      <td>-0.044097</td>\n",
       "    </tr>\n",
       "    <tr>\n",
       "      <th>10</th>\n",
       "      <td>Nov</td>\n",
       "      <td>0.033573</td>\n",
       "      <td>-0.044097</td>\n",
       "    </tr>\n",
       "    <tr>\n",
       "      <th>11</th>\n",
       "      <td>Dec</td>\n",
       "      <td>0.036458</td>\n",
       "      <td>-0.044097</td>\n",
       "    </tr>\n",
       "  </tbody>\n",
       "</table>\n",
       "</div>"
      ],
      "text/plain": [
       "   Month  Expected Groundwater Gain  Expected Surface Water Gain\n",
       "0    Jan                   0.037333                    -0.044097\n",
       "1    Feb                   0.033077                     0.000202\n",
       "2    Mar                   0.027387                    -0.044097\n",
       "3    Apr                   0.025764                    -0.044097\n",
       "4    May                   0.022618                    -0.041947\n",
       "5    Jun                   0.021141                    -0.044097\n",
       "6    Jul                   0.020168                    -0.044097\n",
       "7    Aug                   0.020036                    -0.044097\n",
       "8    Sep                   0.019608                    -0.044097\n",
       "9    Oct                   0.023838                    -0.044097\n",
       "10   Nov                   0.033573                    -0.044097\n",
       "11   Dec                   0.036458                    -0.044097"
      ]
     },
     "execution_count": 46,
     "metadata": {},
     "output_type": "execute_result"
    }
   ],
   "source": [
    "df2 = pd.DataFrame(columns = [\"Month\", \"Expected Groundwater Gain\", \"Expected Surface Water Gain\"])\n",
    "df2[\"Month\"] = months\n",
    "df2[\"Expected Groundwater Gain\"] = y1\n",
    "df2[\"Expected Surface Water Gain\"] = y2\n",
    "\n",
    "df2"
   ]
  },
  {
   "cell_type": "code",
   "execution_count": 48,
   "metadata": {},
   "outputs": [
    {
     "data": {
      "text/html": [
       "<div>\n",
       "<style scoped>\n",
       "    .dataframe tbody tr th:only-of-type {\n",
       "        vertical-align: middle;\n",
       "    }\n",
       "\n",
       "    .dataframe tbody tr th {\n",
       "        vertical-align: top;\n",
       "    }\n",
       "\n",
       "    .dataframe thead th {\n",
       "        text-align: right;\n",
       "    }\n",
       "</style>\n",
       "<table border=\"1\" class=\"dataframe\">\n",
       "  <thead>\n",
       "    <tr style=\"text-align: right;\">\n",
       "      <th></th>\n",
       "      <th>Month</th>\n",
       "      <th>Maximal Groundwater Gain</th>\n",
       "      <th>Maximal Surface Water Gain</th>\n",
       "    </tr>\n",
       "  </thead>\n",
       "  <tbody>\n",
       "    <tr>\n",
       "      <th>0</th>\n",
       "      <td>Jan</td>\n",
       "      <td>0.081448</td>\n",
       "      <td>-0.000478</td>\n",
       "    </tr>\n",
       "    <tr>\n",
       "      <th>1</th>\n",
       "      <td>Feb</td>\n",
       "      <td>0.077191</td>\n",
       "      <td>0.043821</td>\n",
       "    </tr>\n",
       "    <tr>\n",
       "      <th>2</th>\n",
       "      <td>Mar</td>\n",
       "      <td>0.071502</td>\n",
       "      <td>-0.000478</td>\n",
       "    </tr>\n",
       "    <tr>\n",
       "      <th>3</th>\n",
       "      <td>Apr</td>\n",
       "      <td>0.069878</td>\n",
       "      <td>-0.000478</td>\n",
       "    </tr>\n",
       "    <tr>\n",
       "      <th>4</th>\n",
       "      <td>May</td>\n",
       "      <td>0.066733</td>\n",
       "      <td>0.001672</td>\n",
       "    </tr>\n",
       "    <tr>\n",
       "      <th>5</th>\n",
       "      <td>Jun</td>\n",
       "      <td>0.065256</td>\n",
       "      <td>-0.000478</td>\n",
       "    </tr>\n",
       "    <tr>\n",
       "      <th>6</th>\n",
       "      <td>Jul</td>\n",
       "      <td>0.064282</td>\n",
       "      <td>-0.000478</td>\n",
       "    </tr>\n",
       "    <tr>\n",
       "      <th>7</th>\n",
       "      <td>Aug</td>\n",
       "      <td>0.064150</td>\n",
       "      <td>-0.000478</td>\n",
       "    </tr>\n",
       "    <tr>\n",
       "      <th>8</th>\n",
       "      <td>Sep</td>\n",
       "      <td>0.063722</td>\n",
       "      <td>-0.000478</td>\n",
       "    </tr>\n",
       "    <tr>\n",
       "      <th>9</th>\n",
       "      <td>Oct</td>\n",
       "      <td>0.067952</td>\n",
       "      <td>-0.000478</td>\n",
       "    </tr>\n",
       "    <tr>\n",
       "      <th>10</th>\n",
       "      <td>Nov</td>\n",
       "      <td>0.077688</td>\n",
       "      <td>-0.000478</td>\n",
       "    </tr>\n",
       "    <tr>\n",
       "      <th>11</th>\n",
       "      <td>Dec</td>\n",
       "      <td>0.080573</td>\n",
       "      <td>-0.000478</td>\n",
       "    </tr>\n",
       "  </tbody>\n",
       "</table>\n",
       "</div>"
      ],
      "text/plain": [
       "   Month  Maximal Groundwater Gain  Maximal Surface Water Gain\n",
       "0    Jan                  0.081448                   -0.000478\n",
       "1    Feb                  0.077191                    0.043821\n",
       "2    Mar                  0.071502                   -0.000478\n",
       "3    Apr                  0.069878                   -0.000478\n",
       "4    May                  0.066733                    0.001672\n",
       "5    Jun                  0.065256                   -0.000478\n",
       "6    Jul                  0.064282                   -0.000478\n",
       "7    Aug                  0.064150                   -0.000478\n",
       "8    Sep                  0.063722                   -0.000478\n",
       "9    Oct                  0.067952                   -0.000478\n",
       "10   Nov                  0.077688                   -0.000478\n",
       "11   Dec                  0.080573                   -0.000478"
      ]
     },
     "execution_count": 48,
     "metadata": {},
     "output_type": "execute_result"
    }
   ],
   "source": [
    "df3 = pd.DataFrame(columns = [\"Month\", \"Maximal Groundwater Gain\", \"Maximal Surface Water Gain\"])\n",
    "df3[\"Month\"] = months\n",
    "df3[\"Maximal Groundwater Gain\"] = y1o\n",
    "df3[\"Maximal Surface Water Gain\"] = y2o\n",
    "\n",
    "df3"
   ]
  },
  {
   "cell_type": "code",
   "execution_count": null,
   "metadata": {},
   "outputs": [],
   "source": [
    "\n",
    "\n",
    "y1p = np.asarray([-0.3625377318756413, -0.36209426686370194, -0.3535085704617682, -0.346699092102845, -0.34087465676680156, -0.340086675733103, -0.34084435830780235, -0.3429813433015457, -0.3543123420175305, -0.35802488063119164, -0.36188535960412127, -0.36239522674885855])\n",
    "y1 = np.asarray([0.019379440083984255, 0.019822905095923597, 0.028408601497857323, 0.035218079856780514, 0.04104251519282396, 0.04183049622652254, 0.04107281365182321, 0.038935828658079784, 0.027604829942095087, 0.023892291328433922, 0.020031812355504296, 0.01952194521076698])\n",
    "y1o = np.asarray([0.06349404841041084, 0.06393751342235018, 0.07252320982428391, 0.0793326881832071, 0.08515712351925055, 0.08594510455294913, 0.0851874219782498, 0.08305043698450637, 0.07171943826852167, 0.06800689965486051, 0.06414642068193088, 0.06363655353719357])\n",
    "\n",
    "\"\"\"\n",
    "y2p = np.asarray([-3.4198690740779507, -3.6231177178010303, -3.848535844557231, -3.8494263297218234, -3.848268869006829, -3.8476279173798225, -3.848156072433819, -3.844443802434195, -3.849728171348659, -3.6792654857328317, -3.8085618767399905, -3.8471159500683063])\n",
    "y2 = np.asarray([-0.1894319720458727, -0.39268061576895236, -0.6180987425251532, -0.6189892276897454, -0.6178317669747511, -0.6171908153477446, -0.6177189704017411, -0.6140067004021172, -0.6192910693165812, -0.44882838370075384, -0.5781247747079125, -0.6166788480362283])\n",
    "y2o = np.asarray([0.423149632365482, 0.21990098864240235, -0.005517138113798437, -0.006407623278390712, -0.00525016256339638, -0.00460921093638984, -0.0051373659903863785, -0.0014250959907625912, -0.0067094649052264815, 0.16375322071060086, 0.034456829703442285, -0.004097243624873591])\n",
    "\"\"\"\n",
    "\n",
    "# Highly Pessimistic\n",
    "months = [\"Jan\", \"Feb\", \"Mar\", \"Apr\", \"May\", \"Jun\", \"Jul\", \"Aug\", \"Sep\", \"Oct\", \"Nov\", \"Dec\"]\n",
    "fig = make_subplots(rows = 1, cols = 1,  subplot_titles=(\"Groundwater Gain\", \"Surface Water Gain\"))\n",
    "fig.add_trace(go.Scatter(x=months, y=y1p, mode = \"markers\", name = \"Surface water\"), row = 1, col = 1)\n",
    "#fig.add_trace(go.Scatter(x=months, y=y2p, mode = \"markers\", name = \"Groundwater\"), row = 1, col = 2)\n",
    "\n",
    "fig.update_xaxes(title = \"Month\")\n",
    "#fig.update_yaxes(title = \"Gain (maf)\", range = [-6, -3])\n",
    "fig.update_layout(height=600, width=1200, title_text=\"Minimal Prediction\")\n",
    "\n",
    "fig.show()\n",
    "\n",
    "# Average\n",
    "fig = make_subplots(rows = 1, cols = 1,  subplot_titles=(\"Groundwater Gain\", \"Surface Water Gain\"))\n",
    "fig.add_trace(go.Scatter(x=months, y=y1, mode = \"markers\", name = \"Surface water\"), row = 1, col = 1)\n",
    "#fig.add_trace(go.Scatter(x=months, y=y2, mode = \"markers\", name = \"Groundwater\"), row = 1, col = 2)\n",
    "\n",
    "fig.update_xaxes(title = \"Month\")\n",
    "#fig.update_yaxes(title = \"Gain (maf)\", range = [0, -1])\n",
    "fig.update_layout(height=600, width=1200, title_text=\"Normal Prediction\")\n",
    "\n",
    "fig.show()\n",
    "\n",
    "# Highly Optimistic\n",
    "fig = make_subplots(rows = 1, cols = 1,  subplot_titles=(\"Groundwater Gain\", \"Surface Water Gain\"))\n",
    "fig.add_trace(go.Scatter(x=months, y=y1o, mode = \"markers\", name = \"Surface water\"), row = 1, col = 1)\n",
    "#fig.add_trace(go.Scatter(x=months, y=y2o, mode = \"markers\", name = \"Groundwater\"), row = 1, col = 2)\n",
    "\n",
    "fig.update_xaxes(title = \"Month\")\n",
    "#fig.update_yaxes(title = \"Gain (maf)\", range = [-0.5, 0.5])\n",
    "\n",
    "fig.update_layout(height=600, width=1200, title_text=\"Maximal Prediction\")\n",
    "fig.show()\n",
    "\n",
    "print(\"Surface Water\")\n",
    "print(sum(y1p))\n",
    "print(sum(y1))\n",
    "print(sum(y1o))\n",
    "print()\n",
    "\"\"\"\"\n",
    "print(\"Ground Water\")\n",
    "print(sum(y2p))\n",
    "print(sum(y2))\n",
    "print(sum(y2o))\n",
    "\"\"\""
   ]
  },
  {
   "cell_type": "code",
   "execution_count": 18,
   "metadata": {},
   "outputs": [
    {
     "name": "stdout",
     "output_type": "stream",
     "text": [
      "-0.3551671022034378\n",
      "0.026750069756187673\n",
      "0.07086467808261426\n",
      "-0.3521870420345759\n",
      "0.029730129925049618\n",
      "0.07384473825147621\n",
      "-0.39607203002140395\n",
      "-0.014154858061778413\n",
      "0.02995975026464817\n",
      "-0.39607203002140395\n",
      "-0.014154858061778413\n",
      "0.02995975026464817\n"
     ]
    }
   ],
   "source": [
    "print(np.average([-0.3445839352867924, -0.3488406591924913, -0.35453009901895777, -0.35615328875119895, -0.35929868949319, -0.3607762326900431, -0.3617492931530171, -0.36188141962635645, -0.3623093856539154, -0.3580795649265237, -0.34834382004708175, -0.34545883860168636]))\n",
    "print(np.average([0.03733323667283315, 0.03307651276713421, 0.027387072940667757, 0.025763883208426604, 0.022618482466435573, 0.021140939269582444, 0.0201678788066084, 0.02003575233326909, 0.019607786305710133, 0.023837607033101844, 0.03357335191254376, 0.03645833335793915]))\n",
    "print(np.average([0.08144784499925974, 0.0771911210935608, 0.07150168126709434, 0.06987849153485319, 0.06673309079286216, 0.06525554759600903, 0.06428248713303499, 0.06415036065969568, 0.06372239463213672, 0.06795221535952843, 0.07768796023897034, 0.08057294168436574]))\n",
    "\n",
    "print(np.average([-0.3625377318756413, -0.36209426686370194, -0.3535085704617682, -0.346699092102845, -0.34087465676680156, -0.340086675733103, -0.34084435830780235, -0.3429813433015457, -0.3543123420175305, -0.35802488063119164, -0.36188535960412127, -0.36239522674885855]))\n",
    "print(np.average([0.019379440083984255, 0.019822905095923597, 0.028408601497857323, 0.035218079856780514, 0.04104251519282396, 0.04183049622652254, 0.04107281365182321, 0.038935828658079784, 0.027604829942095087, 0.023892291328433922, 0.020031812355504296, 0.01952194521076698]))\n",
    "print(np.average([0.06349404841041084, 0.06393751342235018, 0.07252320982428391, 0.0793326881832071, 0.08515712351925055, 0.08594510455294913, 0.0851874219782498, 0.08305043698450637, 0.07171943826852167, 0.06800689965486051, 0.06414642068193088, 0.06363655353719357]))\n",
    "\n",
    "print(np.average([-0.39082124990629324, -0.39303446710583567, -0.3958085696336278, -0.39657888604928065, -0.398083307255811, -0.39880208706228853, -0.39926900554230044, -0.3993332924684884, -0.39953487015365097, -0.39749951042148945, -0.39277486024442054, -0.3913242544133607]))\n",
    "print(np.average([-0.00890407794666772, -0.011117295146210147, -0.013891397674002288, -0.014661714089655116, -0.01616613529618542, -0.01688491510266298, -0.0173518335826749, -0.017416120508862876, -0.017617698194025457, -0.015582338461863916, -0.010857688284794977, -0.009407082453735179]))\n",
    "print(np.average([0.03521053037975887, 0.03299731318021644, 0.0302232106524243, 0.02945289423677147, 0.027948473030241165, 0.027229693223763608, 0.02676277474375169, 0.02669848781756371, 0.02649691013240113, 0.02853226986456267, 0.03325692004163161, 0.03470752587269141]))\n",
    "\n",
    "print(np.average([-0.39082124990629324, -0.39303446710583567, -0.3958085696336278, -0.39657888604928065, -0.398083307255811, -0.39880208706228853, -0.39926900554230044, -0.3993332924684884, -0.39953487015365097, -0.39749951042148945, -0.39277486024442054, -0.3913242544133607]))\n",
    "print(np.average([-0.00890407794666772, -0.011117295146210147, -0.013891397674002288, -0.014661714089655116, -0.01616613529618542, -0.01688491510266298, -0.0173518335826749, -0.017416120508862876, -0.017617698194025457, -0.015582338461863916, -0.010857688284794977, -0.009407082453735179]))\n",
    "print(np.average([0.03521053037975887, 0.03299731318021644, 0.0302232106524243, 0.02945289423677147, 0.027948473030241165, 0.027229693223763608, 0.02676277474375169, 0.02669848781756371, 0.02649691013240113, 0.02853226986456267, 0.03325692004163161, 0.03470752587269141]))"
   ]
  },
  {
   "cell_type": "code",
   "execution_count": 23,
   "metadata": {},
   "outputs": [
    {
     "data": {
      "text/plain": [
       "[0.07384473825147621,\n",
       " 0.07086467808261426,\n",
       " 0.02995975026464817,\n",
       " 0.02995975026464817]"
      ]
     },
     "execution_count": 23,
     "metadata": {},
     "output_type": "execute_result"
    }
   ],
   "source": [
    "[-0.3521870420345759,-0.3551671022034378,-0.39607203002140395,-0.39607203002140395]\n",
    "\n",
    "[0.029730129925049618,0.026750069756187673,-0.014154858061778413,-0.014154858061778413]\n",
    "\n",
    "[0.07384473825147621,0.07086467808261426,0.02995975026464817,0.02995975026464817]"
   ]
  },
  {
   "cell_type": "code",
   "execution_count": 24,
   "metadata": {},
   "outputs": [
    {
     "data": {
      "application/vnd.plotly.v1+json": {
       "config": {
        "plotlyServerURL": "https://plot.ly"
       },
       "data": [
        {
         "mode": "markers+lines",
         "name": "Worst-Case Surface water",
         "type": "scatter",
         "x": [
          0,
          5,
          10,
          15
         ],
         "xaxis": "x",
         "y": [
          -0.3521870420345759,
          -0.3551671022034378,
          -0.39607203002140395,
          -0.39607203002140395
         ],
         "yaxis": "y"
        },
        {
         "mode": "markers+lines",
         "name": "Predicted Surface water",
         "type": "scatter",
         "x": [
          0,
          5,
          10,
          15
         ],
         "xaxis": "x",
         "y": [
          0.029730129925049618,
          0.026750069756187673,
          -0.014154858061778413,
          -0.014154858061778413
         ],
         "yaxis": "y"
        },
        {
         "mode": "markers+lines",
         "name": "Best-Case Surface water",
         "type": "scatter",
         "x": [
          0,
          5,
          10,
          15
         ],
         "xaxis": "x",
         "y": [
          0.07384473825147621,
          0.07086467808261426,
          0.02995975026464817,
          0.02995975026464817
         ],
         "yaxis": "y"
        }
       ],
       "layout": {
        "height": 600,
        "template": {
         "data": {
          "bar": [
           {
            "error_x": {
             "color": "#2a3f5f"
            },
            "error_y": {
             "color": "#2a3f5f"
            },
            "marker": {
             "line": {
              "color": "#E5ECF6",
              "width": 0.5
             },
             "pattern": {
              "fillmode": "overlay",
              "size": 10,
              "solidity": 0.2
             }
            },
            "type": "bar"
           }
          ],
          "barpolar": [
           {
            "marker": {
             "line": {
              "color": "#E5ECF6",
              "width": 0.5
             },
             "pattern": {
              "fillmode": "overlay",
              "size": 10,
              "solidity": 0.2
             }
            },
            "type": "barpolar"
           }
          ],
          "carpet": [
           {
            "aaxis": {
             "endlinecolor": "#2a3f5f",
             "gridcolor": "white",
             "linecolor": "white",
             "minorgridcolor": "white",
             "startlinecolor": "#2a3f5f"
            },
            "baxis": {
             "endlinecolor": "#2a3f5f",
             "gridcolor": "white",
             "linecolor": "white",
             "minorgridcolor": "white",
             "startlinecolor": "#2a3f5f"
            },
            "type": "carpet"
           }
          ],
          "choropleth": [
           {
            "colorbar": {
             "outlinewidth": 0,
             "ticks": ""
            },
            "type": "choropleth"
           }
          ],
          "contour": [
           {
            "colorbar": {
             "outlinewidth": 0,
             "ticks": ""
            },
            "colorscale": [
             [
              0,
              "#0d0887"
             ],
             [
              0.1111111111111111,
              "#46039f"
             ],
             [
              0.2222222222222222,
              "#7201a8"
             ],
             [
              0.3333333333333333,
              "#9c179e"
             ],
             [
              0.4444444444444444,
              "#bd3786"
             ],
             [
              0.5555555555555556,
              "#d8576b"
             ],
             [
              0.6666666666666666,
              "#ed7953"
             ],
             [
              0.7777777777777778,
              "#fb9f3a"
             ],
             [
              0.8888888888888888,
              "#fdca26"
             ],
             [
              1,
              "#f0f921"
             ]
            ],
            "type": "contour"
           }
          ],
          "contourcarpet": [
           {
            "colorbar": {
             "outlinewidth": 0,
             "ticks": ""
            },
            "type": "contourcarpet"
           }
          ],
          "heatmap": [
           {
            "colorbar": {
             "outlinewidth": 0,
             "ticks": ""
            },
            "colorscale": [
             [
              0,
              "#0d0887"
             ],
             [
              0.1111111111111111,
              "#46039f"
             ],
             [
              0.2222222222222222,
              "#7201a8"
             ],
             [
              0.3333333333333333,
              "#9c179e"
             ],
             [
              0.4444444444444444,
              "#bd3786"
             ],
             [
              0.5555555555555556,
              "#d8576b"
             ],
             [
              0.6666666666666666,
              "#ed7953"
             ],
             [
              0.7777777777777778,
              "#fb9f3a"
             ],
             [
              0.8888888888888888,
              "#fdca26"
             ],
             [
              1,
              "#f0f921"
             ]
            ],
            "type": "heatmap"
           }
          ],
          "heatmapgl": [
           {
            "colorbar": {
             "outlinewidth": 0,
             "ticks": ""
            },
            "colorscale": [
             [
              0,
              "#0d0887"
             ],
             [
              0.1111111111111111,
              "#46039f"
             ],
             [
              0.2222222222222222,
              "#7201a8"
             ],
             [
              0.3333333333333333,
              "#9c179e"
             ],
             [
              0.4444444444444444,
              "#bd3786"
             ],
             [
              0.5555555555555556,
              "#d8576b"
             ],
             [
              0.6666666666666666,
              "#ed7953"
             ],
             [
              0.7777777777777778,
              "#fb9f3a"
             ],
             [
              0.8888888888888888,
              "#fdca26"
             ],
             [
              1,
              "#f0f921"
             ]
            ],
            "type": "heatmapgl"
           }
          ],
          "histogram": [
           {
            "marker": {
             "pattern": {
              "fillmode": "overlay",
              "size": 10,
              "solidity": 0.2
             }
            },
            "type": "histogram"
           }
          ],
          "histogram2d": [
           {
            "colorbar": {
             "outlinewidth": 0,
             "ticks": ""
            },
            "colorscale": [
             [
              0,
              "#0d0887"
             ],
             [
              0.1111111111111111,
              "#46039f"
             ],
             [
              0.2222222222222222,
              "#7201a8"
             ],
             [
              0.3333333333333333,
              "#9c179e"
             ],
             [
              0.4444444444444444,
              "#bd3786"
             ],
             [
              0.5555555555555556,
              "#d8576b"
             ],
             [
              0.6666666666666666,
              "#ed7953"
             ],
             [
              0.7777777777777778,
              "#fb9f3a"
             ],
             [
              0.8888888888888888,
              "#fdca26"
             ],
             [
              1,
              "#f0f921"
             ]
            ],
            "type": "histogram2d"
           }
          ],
          "histogram2dcontour": [
           {
            "colorbar": {
             "outlinewidth": 0,
             "ticks": ""
            },
            "colorscale": [
             [
              0,
              "#0d0887"
             ],
             [
              0.1111111111111111,
              "#46039f"
             ],
             [
              0.2222222222222222,
              "#7201a8"
             ],
             [
              0.3333333333333333,
              "#9c179e"
             ],
             [
              0.4444444444444444,
              "#bd3786"
             ],
             [
              0.5555555555555556,
              "#d8576b"
             ],
             [
              0.6666666666666666,
              "#ed7953"
             ],
             [
              0.7777777777777778,
              "#fb9f3a"
             ],
             [
              0.8888888888888888,
              "#fdca26"
             ],
             [
              1,
              "#f0f921"
             ]
            ],
            "type": "histogram2dcontour"
           }
          ],
          "mesh3d": [
           {
            "colorbar": {
             "outlinewidth": 0,
             "ticks": ""
            },
            "type": "mesh3d"
           }
          ],
          "parcoords": [
           {
            "line": {
             "colorbar": {
              "outlinewidth": 0,
              "ticks": ""
             }
            },
            "type": "parcoords"
           }
          ],
          "pie": [
           {
            "automargin": true,
            "type": "pie"
           }
          ],
          "scatter": [
           {
            "fillpattern": {
             "fillmode": "overlay",
             "size": 10,
             "solidity": 0.2
            },
            "type": "scatter"
           }
          ],
          "scatter3d": [
           {
            "line": {
             "colorbar": {
              "outlinewidth": 0,
              "ticks": ""
             }
            },
            "marker": {
             "colorbar": {
              "outlinewidth": 0,
              "ticks": ""
             }
            },
            "type": "scatter3d"
           }
          ],
          "scattercarpet": [
           {
            "marker": {
             "colorbar": {
              "outlinewidth": 0,
              "ticks": ""
             }
            },
            "type": "scattercarpet"
           }
          ],
          "scattergeo": [
           {
            "marker": {
             "colorbar": {
              "outlinewidth": 0,
              "ticks": ""
             }
            },
            "type": "scattergeo"
           }
          ],
          "scattergl": [
           {
            "marker": {
             "colorbar": {
              "outlinewidth": 0,
              "ticks": ""
             }
            },
            "type": "scattergl"
           }
          ],
          "scattermapbox": [
           {
            "marker": {
             "colorbar": {
              "outlinewidth": 0,
              "ticks": ""
             }
            },
            "type": "scattermapbox"
           }
          ],
          "scatterpolar": [
           {
            "marker": {
             "colorbar": {
              "outlinewidth": 0,
              "ticks": ""
             }
            },
            "type": "scatterpolar"
           }
          ],
          "scatterpolargl": [
           {
            "marker": {
             "colorbar": {
              "outlinewidth": 0,
              "ticks": ""
             }
            },
            "type": "scatterpolargl"
           }
          ],
          "scatterternary": [
           {
            "marker": {
             "colorbar": {
              "outlinewidth": 0,
              "ticks": ""
             }
            },
            "type": "scatterternary"
           }
          ],
          "surface": [
           {
            "colorbar": {
             "outlinewidth": 0,
             "ticks": ""
            },
            "colorscale": [
             [
              0,
              "#0d0887"
             ],
             [
              0.1111111111111111,
              "#46039f"
             ],
             [
              0.2222222222222222,
              "#7201a8"
             ],
             [
              0.3333333333333333,
              "#9c179e"
             ],
             [
              0.4444444444444444,
              "#bd3786"
             ],
             [
              0.5555555555555556,
              "#d8576b"
             ],
             [
              0.6666666666666666,
              "#ed7953"
             ],
             [
              0.7777777777777778,
              "#fb9f3a"
             ],
             [
              0.8888888888888888,
              "#fdca26"
             ],
             [
              1,
              "#f0f921"
             ]
            ],
            "type": "surface"
           }
          ],
          "table": [
           {
            "cells": {
             "fill": {
              "color": "#EBF0F8"
             },
             "line": {
              "color": "white"
             }
            },
            "header": {
             "fill": {
              "color": "#C8D4E3"
             },
             "line": {
              "color": "white"
             }
            },
            "type": "table"
           }
          ]
         },
         "layout": {
          "annotationdefaults": {
           "arrowcolor": "#2a3f5f",
           "arrowhead": 0,
           "arrowwidth": 1
          },
          "autotypenumbers": "strict",
          "coloraxis": {
           "colorbar": {
            "outlinewidth": 0,
            "ticks": ""
           }
          },
          "colorscale": {
           "diverging": [
            [
             0,
             "#8e0152"
            ],
            [
             0.1,
             "#c51b7d"
            ],
            [
             0.2,
             "#de77ae"
            ],
            [
             0.3,
             "#f1b6da"
            ],
            [
             0.4,
             "#fde0ef"
            ],
            [
             0.5,
             "#f7f7f7"
            ],
            [
             0.6,
             "#e6f5d0"
            ],
            [
             0.7,
             "#b8e186"
            ],
            [
             0.8,
             "#7fbc41"
            ],
            [
             0.9,
             "#4d9221"
            ],
            [
             1,
             "#276419"
            ]
           ],
           "sequential": [
            [
             0,
             "#0d0887"
            ],
            [
             0.1111111111111111,
             "#46039f"
            ],
            [
             0.2222222222222222,
             "#7201a8"
            ],
            [
             0.3333333333333333,
             "#9c179e"
            ],
            [
             0.4444444444444444,
             "#bd3786"
            ],
            [
             0.5555555555555556,
             "#d8576b"
            ],
            [
             0.6666666666666666,
             "#ed7953"
            ],
            [
             0.7777777777777778,
             "#fb9f3a"
            ],
            [
             0.8888888888888888,
             "#fdca26"
            ],
            [
             1,
             "#f0f921"
            ]
           ],
           "sequentialminus": [
            [
             0,
             "#0d0887"
            ],
            [
             0.1111111111111111,
             "#46039f"
            ],
            [
             0.2222222222222222,
             "#7201a8"
            ],
            [
             0.3333333333333333,
             "#9c179e"
            ],
            [
             0.4444444444444444,
             "#bd3786"
            ],
            [
             0.5555555555555556,
             "#d8576b"
            ],
            [
             0.6666666666666666,
             "#ed7953"
            ],
            [
             0.7777777777777778,
             "#fb9f3a"
            ],
            [
             0.8888888888888888,
             "#fdca26"
            ],
            [
             1,
             "#f0f921"
            ]
           ]
          },
          "colorway": [
           "#636efa",
           "#EF553B",
           "#00cc96",
           "#ab63fa",
           "#FFA15A",
           "#19d3f3",
           "#FF6692",
           "#B6E880",
           "#FF97FF",
           "#FECB52"
          ],
          "font": {
           "color": "#2a3f5f"
          },
          "geo": {
           "bgcolor": "white",
           "lakecolor": "white",
           "landcolor": "#E5ECF6",
           "showlakes": true,
           "showland": true,
           "subunitcolor": "white"
          },
          "hoverlabel": {
           "align": "left"
          },
          "hovermode": "closest",
          "mapbox": {
           "style": "light"
          },
          "paper_bgcolor": "white",
          "plot_bgcolor": "#E5ECF6",
          "polar": {
           "angularaxis": {
            "gridcolor": "white",
            "linecolor": "white",
            "ticks": ""
           },
           "bgcolor": "#E5ECF6",
           "radialaxis": {
            "gridcolor": "white",
            "linecolor": "white",
            "ticks": ""
           }
          },
          "scene": {
           "xaxis": {
            "backgroundcolor": "#E5ECF6",
            "gridcolor": "white",
            "gridwidth": 2,
            "linecolor": "white",
            "showbackground": true,
            "ticks": "",
            "zerolinecolor": "white"
           },
           "yaxis": {
            "backgroundcolor": "#E5ECF6",
            "gridcolor": "white",
            "gridwidth": 2,
            "linecolor": "white",
            "showbackground": true,
            "ticks": "",
            "zerolinecolor": "white"
           },
           "zaxis": {
            "backgroundcolor": "#E5ECF6",
            "gridcolor": "white",
            "gridwidth": 2,
            "linecolor": "white",
            "showbackground": true,
            "ticks": "",
            "zerolinecolor": "white"
           }
          },
          "shapedefaults": {
           "line": {
            "color": "#2a3f5f"
           }
          },
          "ternary": {
           "aaxis": {
            "gridcolor": "white",
            "linecolor": "white",
            "ticks": ""
           },
           "baxis": {
            "gridcolor": "white",
            "linecolor": "white",
            "ticks": ""
           },
           "bgcolor": "#E5ECF6",
           "caxis": {
            "gridcolor": "white",
            "linecolor": "white",
            "ticks": ""
           }
          },
          "title": {
           "x": 0.05
          },
          "xaxis": {
           "automargin": true,
           "gridcolor": "white",
           "linecolor": "white",
           "ticks": "",
           "title": {
            "standoff": 15
           },
           "zerolinecolor": "white",
           "zerolinewidth": 2
          },
          "yaxis": {
           "automargin": true,
           "gridcolor": "white",
           "linecolor": "white",
           "ticks": "",
           "title": {
            "standoff": 15
           },
           "zerolinecolor": "white",
           "zerolinewidth": 2
          }
         }
        },
        "title": {
         "text": "Change in Surface Loss due to Climate Change"
        },
        "width": 1200,
        "xaxis": {
         "anchor": "y",
         "domain": [
          0,
          1
         ],
         "title": {
          "text": "Years in the Future"
         }
        },
        "yaxis": {
         "anchor": "x",
         "domain": [
          0,
          1
         ],
         "title": {
          "text": "Supply Gain/Loss (maf/week)"
         }
        }
       }
      }
     },
     "metadata": {},
     "output_type": "display_data"
    }
   ],
   "source": [
    "fig = make_subplots(rows = 1, cols = 1)\n",
    "fig.add_trace(go.Scatter(x=[0,5,10,15], y=[-0.3521870420345759,-0.3551671022034378,-0.39607203002140395,-0.39607203002140395], mode = \"markers+lines\", name = \"Worst-Case Surface water\"), row = 1, col = 1)\n",
    "fig.add_trace(go.Scatter(x=[0,5,10,15], y=[0.029730129925049618,0.026750069756187673,-0.014154858061778413,-0.014154858061778413], mode = \"markers+lines\", name = \"Predicted Surface water\"), row = 1, col = 1)\n",
    "fig.add_trace(go.Scatter(x=[0,5,10,15], y=[0.07384473825147621,0.07086467808261426,0.02995975026464817,0.02995975026464817], mode = \"markers+lines\", name = \"Best-Case Surface water\"), row = 1, col = 1)\n",
    "\n",
    "#fig.add_trace(go.Scatter(x=months, y=y2p, mode = \"markers\", name = \"Groundwater\"), row = 1, col = 2)\n",
    "\n",
    "fig.update_xaxes(title = \"Years in the Future\")\n",
    "#fig.update_yaxes(title = \"Gain (maf)\", range = [-6, -3])\n",
    "fig.update_layout(height=600, width=1200, title_text=\"Change in Surface Loss due to Climate Change\")\n",
    "fig.update_yaxes(title = \"Supply Gain/Loss (maf/week)\")\n",
    "\n",
    "fig.show()"
   ]
  }
 ],
 "metadata": {
  "kernelspec": {
   "display_name": "Python 3",
   "language": "python",
   "name": "python3"
  },
  "language_info": {
   "codemirror_mode": {
    "name": "ipython",
    "version": 3
   },
   "file_extension": ".py",
   "mimetype": "text/x-python",
   "name": "python",
   "nbconvert_exporter": "python",
   "pygments_lexer": "ipython3",
   "version": "3.9.15"
  },
  "orig_nbformat": 4
 },
 "nbformat": 4,
 "nbformat_minor": 2
}
